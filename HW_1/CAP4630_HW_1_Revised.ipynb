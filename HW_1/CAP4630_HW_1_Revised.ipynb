{
  "nbformat": 4,
  "nbformat_minor": 0,
  "metadata": {
    "colab": {
      "name": "CAP4630_HW_1_Revised.ipynb",
      "provenance": [],
      "collapsed_sections": [
        "ceuXmtlhvQr0"
      ],
      "toc_visible": true,
      "include_colab_link": true
    },
    "kernelspec": {
      "name": "python3",
      "display_name": "Python 3"
    }
  },
  "cells": [
    {
      "cell_type": "markdown",
      "metadata": {
        "id": "view-in-github",
        "colab_type": "text"
      },
      "source": [
        "<a href=\"https://colab.research.google.com/github/ZTatman/Artificial-Intelligence/blob/master/HW_1/CAP4630_HW_1_Revised.ipynb\" target=\"_parent\"><img src=\"https://colab.research.google.com/assets/colab-badge.svg\" alt=\"Open In Colab\"/></a>"
      ]
    },
    {
      "cell_type": "markdown",
      "metadata": {
        "id": "rTVZDe7t5sWY",
        "colab_type": "text"
      },
      "source": [
        "# HW_1 (Revised)"
      ]
    },
    {
      "cell_type": "markdown",
      "metadata": {
        "id": "FPZLxsl4fueu",
        "colab_type": "text"
      },
      "source": [
        "## Problem 1\n",
        "\n",
        "Google Colab Editable Link"
      ]
    },
    {
      "cell_type": "markdown",
      "metadata": {
        "id": "yBhn0F2u56mV",
        "colab_type": "text"
      },
      "source": [
        "https://colab.research.google.com/drive/1AYWYMsB9q0dSWo9oTG0oa1_wypAGZ9jH"
      ]
    },
    {
      "cell_type": "markdown",
      "metadata": {
        "id": "vX52Fi5dfxuL",
        "colab_type": "text"
      },
      "source": [
        "## Problem 2 (REVISED)\n",
        "\n",
        "implement a Python function multiply_matrices that takes as input a list of numpy arrays and outputs their product. It should raise a custom exception if there is a pair of incompatible matrices. The exception message should provide information about which pair of matrices is bad. Make sure that you follow the style guide for Python. Also use simple markup for formatting your notebook and include a simple description of what your program does inside a text cell. You should also use some simple Latex commands, for instance, when explaining what it means for two matrices to be compatible."
      ]
    },
    {
      "cell_type": "code",
      "metadata": {
        "id": "x-r5VZbZgYxc",
        "colab_type": "code",
        "colab": {}
      },
      "source": [
        "import numpy as np\n",
        "import numpy.matlib\n",
        "\n",
        "# Helper Function to Update Matrices List\n",
        "def update_list(i, j, matr, matr_list, matr_shapes):\n",
        "  matr_list = matr_list[:i] + matr_list[j+1:]\n",
        "  matr_shapes = matr_shapes[:i] + matr_shapes[j+1:]\n",
        "\n",
        "  \n",
        "  matr_list.insert(i, matr)\n",
        "  matr_shapes.insert(i,(i, matr.shape))\n",
        "\n",
        "\n",
        "  new_shapes = []\n",
        "  for i, el in enumerate(matr_shapes,0):\n",
        "    new_shapes.append((i, el[1]))\n",
        "  return matr_list, matr_shapes\n",
        "\n",
        "# Multiply List of Matrices\n",
        "# Print the final product\n",
        "# Returns list containing the final product\n",
        "def multiply_matrices(matr_list):\n",
        "\n",
        "  # List length\n",
        "  list_len = len(matr_list)\n",
        "\n",
        "  # Check for empty list\n",
        "  if list_len == 0:\n",
        "    raise Exception('Error: List of matrices is empty.')\n",
        "\n",
        "\n",
        "  # List lengh must be >= 2\n",
        "  if list_len < 2:\n",
        "    raise Exception('Error: List must contain at least 2 matrices.')\n",
        "\n",
        "\n",
        "  # Extract matrix shapes\n",
        "  matr_shapes = []\n",
        "  for matr in matr_list:\n",
        "    matr_shapes.append(matr.shape)\n",
        "\n",
        "\n",
        "  # Enumerate matrix shapes\n",
        "  for i, el in enumerate(matr_shapes, 0):\n",
        "    matr_shapes[i] = (i, el)\n",
        "\n",
        "\n",
        "  # New list for holding matrices\n",
        "  new_list = []\n",
        "\n",
        "\n",
        "  # Multiply array based on case\n",
        "  j = 0 # j is just a counter for how many indices to subtract from i and i + 1\n",
        "  for i, matr in enumerate(matr_list,0):\n",
        "    # print(f\"------iter:({i})------matr_list-len:({len(matr_list)})\")\n",
        "    if i > len(matr_list):\n",
        "      break\n",
        "\n",
        "\n",
        "    if len(matr_list) <= 1:\n",
        "      break\n",
        "\n",
        "\n",
        "    # Case 1 Dimensions Match\n",
        "    if (matr_shapes[i-j][1] == matr_shapes[i-j+1][1]):\n",
        "      # print('Case 1!')\n",
        "      # print(f'Shape[{i-j}]:{matr_shapes[i-j]}, Shape[{i-j+1}]:{matr_shapes[i-j+1]}')\n",
        "      new_matr = np.matmul(matr_list[i-j], matr_list[i-j+1])\n",
        "      # print(f'New Matrix: \\n{new_matr}')\n",
        "      matr_list, matr_shapes = update_list(i-j, i-j+1, new_matr, matr_list, matr_shapes)\n",
        "      # print(f'New List: \\n{matr_list}')\n",
        "      j += 1\n",
        "\n",
        "\n",
        "    # Case 2 Rows Match\n",
        "    elif (matr_shapes[i-j][1][0] == matr_shapes[i-j+1][1][0]):\n",
        "      print('Case 2!')\n",
        "      # print(f'Shape[{i-j}]:{matr_shapes[i-j][1]}, Shape[{i-j+1}]:{matr_shapes[i-j+1][1]}')\n",
        "      new_matr = np.matmul(matr_list[i-j].T, matr_list[i-j+1])\n",
        "      # print(f'New Matrix: \\n{new_matr}')\n",
        "      matr_list, matr_shapes = update_list(i-j, i-j+1, new_matr, matr_list, matr_shapes)\n",
        "      # print(f'New List: \\n{matr_list}')\n",
        "      j += 1\n",
        "\n",
        "\n",
        "    # Case 3 Columns Match\n",
        "    elif (matr_shapes[i-j][1][1] == matr_shapes[i-j+1][1][1]):\n",
        "      # print('Case 3!')\n",
        "      # print(f'Shape[{i-j}]:{matr_shapes[i-j][1]}, Shape[{i-j+1}]:{matr_shapes[i-j+1][1]}')\n",
        "      new_matr = np.matmul(matr_list[i-j], matr_list[i-j+1].T)\n",
        "      # print(f'New Matrix: \\n{new_matr}')\n",
        "      matr_list, matr_shapes = update_list(i-j, i-j+1, new_matr, matr_list, matr_shapes)\n",
        "      # print(f'New List: \\n{matr_list}')\n",
        "      j += 1\n",
        "\n",
        "\n",
        "    # Case 4 Inner Dimensions match\n",
        "    elif (matr_shapes[i-j][1][1] == matr_shapes[i-j+1][1][0]):\n",
        "      # print('Case 4!')\n",
        "      # print(f'Shape[{i-j}]:{matr_shapes[i-j][1]}, Shape[{i-j+1}]:{matr_shapes[i-j+1][1]}')\n",
        "      new_matr = np.matmul(matr_list[i-j], matr_list[i-j+1])\n",
        "      # print(f'New Matrix: \\n{new_matr}')\n",
        "      matr_list, matr_shapes = update_list(i-j, i-j+1, new_matr, matr_list, matr_shapes)\n",
        "      # print(f'New List: \\n{matr_list}')\n",
        "      j += 1\n",
        "\n",
        "\n",
        "    # Case 5 Outer Dimensions Match\n",
        "    elif (matr_shapes[i-j][1][0] == matr_shapes[i-j+1][1][1]):\n",
        "      # print('Case 5!')\n",
        "      # print(f'Shape[{i-j}]:{matr_shapes[i-j][1]}, Shape[{i-j+1}]:{matr_shapes[i-j+1][1]}')\n",
        "      new_matr = np.matmul(matr_list[i-j].T, matr_list[i-j+1].T)\n",
        "      # print(f'New Matrix: \\n{new_matr}')\n",
        "      matr_list, matr_shapes = update_list(i-j, i-j+1, new_matr, matr_list, matr_shapes)\n",
        "      # print(f'New List: \\n{matr_list}')\n",
        "      j += 1\n",
        "\n",
        "    # Case 6 NO MATCH\n",
        "    else: \n",
        "      raise Exception(f'----Dimensions Do Not Match!----\\nMatrix {i-j}: {matr_shapes[i-j][1]}\\n{matr_list[i-j]}\\nMatrix {i-j+1}: {matr_shapes[i-j+1][1]}\\n{matr_list[i-j+1]}')\n",
        "  \n",
        "  print(f'----Final Matrix List----\\n{matr_list}')\n",
        "  return matr_list\n",
        "\n"
      ],
      "execution_count": 0,
      "outputs": []
    },
    {
      "cell_type": "markdown",
      "metadata": {
        "id": "D8WEmBbzwN6p",
        "colab_type": "text"
      },
      "source": [
        "### Testing our function"
      ]
    },
    {
      "cell_type": "code",
      "metadata": {
        "id": "e_xD9vk6wZlE",
        "colab_type": "code",
        "colab": {}
      },
      "source": [
        "import numpy as np\n",
        "import numpy.matlib\n",
        "\n",
        "a = np.array([[1, 2],[23, -2]])\n",
        "b = np.array([[-9, 2]])\n",
        "c = np.array([[1],[1],[1]])\n",
        "d = np.array([[1, 9, -2, 14]])\n",
        "matr_list = [a, b, c, d]\n",
        "\n",
        "matr_list = multiply_matrices(matr_list)"
      ],
      "execution_count": 0,
      "outputs": []
    },
    {
      "cell_type": "markdown",
      "metadata": {
        "id": "ceuXmtlhvQr0",
        "colab_type": "text"
      },
      "source": [
        "## Problem 2 (Version 1)"
      ]
    },
    {
      "cell_type": "code",
      "metadata": {
        "id": "yG2u1puo6GCK",
        "colab_type": "code",
        "colab": {}
      },
      "source": [
        "import numpy as np\n",
        "\n",
        "\n",
        "def multiply_matrices(matr_a, matr_b):\n",
        "    # Find the shape of each matrix\n",
        "    shape_a = matr_a.shape\n",
        "    shape_b = matr_b.shape\n",
        "\n",
        "    print(matr_a.dtype)\n",
        "\n",
        "    # Check against empty matrices\n",
        "    if matr_a.size == 0:\n",
        "      raise Exception(\"Error: Matrix A is empty.\")\n",
        "\n",
        "    if matr_b.size == 0:\n",
        "      raise Exception(\"Error: Matrix B is empty.\")\n",
        "\n",
        "    # Check against different datatypes\n",
        "    if matr_a.dtype != matr_b.dtype:\n",
        "      raise Exception(\"Error: Matrix A and Matrix B have conflicting datatypes.\")\n",
        "\n",
        "\n",
        "    # Check if matrices have compadtible dimensions\n",
        "    if shape_a[1] != shape_b[0]:\n",
        "      raise Exception(f\"\"\"Error: Matrices have incompatible dimensions.\n",
        "      Matrix A has the shape {shape_a}.\n",
        "      Matrix B has the shape {shape_b}.\"\"\")    \n",
        "\n",
        "    # Create new matrix to hold the result\n",
        "    new_matr = np.zeros((shape_a[0], shape_b[1]), dtype=int)\n",
        "    \n",
        "    # For every row in matr_a\n",
        "    for i in range(shape_a[0]):\n",
        "      # For every col in matr_b\n",
        "      for j in range(shape_b[1]):\n",
        "        # Go to the row value of that col\n",
        "        # Multiply it by the value in that row\n",
        "        for z in range(shape_b[0]):\n",
        "          new_matr[i][j] += matr_a[i][z] * matr_b[z][j]\n",
        "    \n",
        "    # Print the result\n",
        "    print(new_matr)\n",
        "\n"
      ],
      "execution_count": 0,
      "outputs": []
    },
    {
      "cell_type": "code",
      "metadata": {
        "id": "Z7zbXLo-vtJf",
        "colab_type": "code",
        "outputId": "0b1df5e4-608a-4fee-c25b-d17aa4683a2b",
        "colab": {
          "base_uri": "https://localhost:8080/",
          "height": 70
        }
      },
      "source": [
        "import numpy as np\n",
        "\n",
        "simple_1 = np.array(([[2, 2], [2, 1]]))\n",
        "simple_2 = np.array(([[3, 2, 1], [1, 2, 1]]))\n",
        "multiply_matrices(simple_1, simple_2)"
      ],
      "execution_count": 0,
      "outputs": [
        {
          "output_type": "stream",
          "text": [
            "int64\n",
            "[[8 8 4]\n",
            " [7 6 3]]\n"
          ],
          "name": "stdout"
        }
      ]
    },
    {
      "cell_type": "code",
      "metadata": {
        "id": "152QFX8L7znt",
        "colab_type": "code",
        "colab": {}
      },
      "source": [
        ""
      ],
      "execution_count": 0,
      "outputs": []
    }
  ]
}
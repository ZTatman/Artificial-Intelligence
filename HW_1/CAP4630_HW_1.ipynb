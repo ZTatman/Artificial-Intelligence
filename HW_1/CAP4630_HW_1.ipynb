{
  "nbformat": 4,
  "nbformat_minor": 0,
  "metadata": {
    "colab": {
      "name": "CAP4630_HW_1.ipynb",
      "provenance": [],
      "collapsed_sections": [
        "yBhn0F2u56mV"
      ],
      "toc_visible": true
    },
    "kernelspec": {
      "name": "python3",
      "display_name": "Python 3"
    }
  },
  "cells": [
    {
      "cell_type": "markdown",
      "metadata": {
        "id": "rTVZDe7t5sWY",
        "colab_type": "text"
      },
      "source": [
        "# Artificial Intelligence HomeWork 1 "
      ]
    },
    {
      "cell_type": "markdown",
      "metadata": {
        "id": "yBhn0F2u56mV",
        "colab_type": "text"
      },
      "source": [
        "## Shareable link to Google Colab\n",
        "https://colab.research.google.com/drive/1AYWYMsB9q0dSWo9oTG0oa1_wypAGZ9jH"
      ]
    },
    {
      "cell_type": "code",
      "metadata": {
        "id": "yG2u1puo6GCK",
        "colab_type": "code",
        "outputId": "ec55885d-6a70-42fd-c17e-eb879940f21d",
        "colab": {
          "base_uri": "https://localhost:8080/",
          "height": 397
        }
      },
      "source": [
        "import numpy as np\n",
        "\n",
        "\n",
        "def multiply_matrices(matr_a, matr_b):\n",
        "    # Find the shape of each matrix\n",
        "    shape_a = matr_a.shape\n",
        "    shape_b = matr_b.shape\n",
        "\n",
        "    print(matr_a.dtype)\n",
        "\n",
        "    # Check against empty matrices\n",
        "    if matr_a.size == 0:\n",
        "      raise Exception(\"Error: Matrix A is empty.\")\n",
        "\n",
        "    if matr_b.size == 0:\n",
        "      raise Exception(\"Error: Matrix B is empty.\")\n",
        "\n",
        "    # Check against different datatypes\n",
        "    if matr_a.dtype != matr_b.dtype:\n",
        "      raise Exception(\"Error: Matrix A and Matrix B have conflicting datatypes.\")\n",
        "\n",
        "\n",
        "    # Check if matrices have compadtible dimensions\n",
        "    if shape_a[1] != shape_b[0]:\n",
        "      raise Exception(f\"\"\"Error: Matrices have incompatible dimensions.\n",
        "      Matrix A has the shape {shape_a}.\n",
        "      Matrix B has the shape {shape_b}.\"\"\")    \n",
        "\n",
        "    # Create new matrix to hold the result\n",
        "    new_matr = np.zeros((shape_a[0], shape_b[1]), dtype=int)\n",
        "    \n",
        "    # For every row in matr_a\n",
        "    for i in range(shape_a[0]):\n",
        "      # For every col in matr_b\n",
        "      for j in range(shape_b[1]):\n",
        "        # Go to the row value of that col\n",
        "        # Multiply it by the value in that row\n",
        "        for z in range(shape_b[0]):\n",
        "          new_matr[i][j] += matr_a[i][z] * matr_b[z][j]\n",
        "    \n",
        "    # Print the result\n",
        "    print(new_matr)\n",
        "\n"
      ],
      "execution_count": 20,
      "outputs": [
        {
          "output_type": "stream",
          "text": [
            "int64\n"
          ],
          "name": "stdout"
        },
        {
          "output_type": "error",
          "ename": "Exception",
          "evalue": "ignored",
          "traceback": [
            "\u001b[0;31m---------------------------------------------------------------------------\u001b[0m",
            "\u001b[0;31mException\u001b[0m                                 Traceback (most recent call last)",
            "\u001b[0;32m<ipython-input-20-0fdd2ed3e10a>\u001b[0m in \u001b[0;36m<module>\u001b[0;34m()\u001b[0m\n\u001b[1;32m     46\u001b[0m     \u001b[0mprint\u001b[0m\u001b[0;34m(\u001b[0m\u001b[0mnew_matr\u001b[0m\u001b[0;34m)\u001b[0m\u001b[0;34m\u001b[0m\u001b[0;34m\u001b[0m\u001b[0m\n\u001b[1;32m     47\u001b[0m \u001b[0;34m\u001b[0m\u001b[0m\n\u001b[0;32m---> 48\u001b[0;31m \u001b[0mmultiply_matrices\u001b[0m\u001b[0;34m(\u001b[0m\u001b[0ma\u001b[0m\u001b[0;34m,\u001b[0m\u001b[0mb\u001b[0m\u001b[0;34m)\u001b[0m\u001b[0;34m\u001b[0m\u001b[0;34m\u001b[0m\u001b[0m\n\u001b[0m\u001b[1;32m     49\u001b[0m \u001b[0mmultiply_matrices\u001b[0m\u001b[0;34m(\u001b[0m\u001b[0mc\u001b[0m\u001b[0;34m,\u001b[0m \u001b[0mb\u001b[0m\u001b[0;34m)\u001b[0m\u001b[0;34m\u001b[0m\u001b[0;34m\u001b[0m\u001b[0m\n\u001b[1;32m     50\u001b[0m \u001b[0;34m\u001b[0m\u001b[0m\n",
            "\u001b[0;32m<ipython-input-20-0fdd2ed3e10a>\u001b[0m in \u001b[0;36mmultiply_matrices\u001b[0;34m(matr_a, matr_b)\u001b[0m\n\u001b[1;32m     22\u001b[0m     \u001b[0;31m# Check against different datatypes\u001b[0m\u001b[0;34m\u001b[0m\u001b[0;34m\u001b[0m\u001b[0;34m\u001b[0m\u001b[0m\n\u001b[1;32m     23\u001b[0m     \u001b[0;32mif\u001b[0m \u001b[0mmatr_a\u001b[0m\u001b[0;34m.\u001b[0m\u001b[0mdtype\u001b[0m \u001b[0;34m!=\u001b[0m \u001b[0mmatr_b\u001b[0m\u001b[0;34m.\u001b[0m\u001b[0mdtype\u001b[0m\u001b[0;34m:\u001b[0m\u001b[0;34m\u001b[0m\u001b[0;34m\u001b[0m\u001b[0m\n\u001b[0;32m---> 24\u001b[0;31m       \u001b[0;32mraise\u001b[0m \u001b[0mException\u001b[0m\u001b[0;34m(\u001b[0m\u001b[0;34m\"Error: Matrix A and Matrix B have conflicting datatypes.\"\u001b[0m\u001b[0;34m)\u001b[0m\u001b[0;34m\u001b[0m\u001b[0;34m\u001b[0m\u001b[0m\n\u001b[0m\u001b[1;32m     25\u001b[0m \u001b[0;34m\u001b[0m\u001b[0m\n\u001b[1;32m     26\u001b[0m \u001b[0;34m\u001b[0m\u001b[0m\n",
            "\u001b[0;31mException\u001b[0m: Error: Matrix A and Matrix B have conflicting datatypes."
          ]
        }
      ]
    },
    {
      "cell_type": "code",
      "metadata": {
        "id": "Z7zbXLo-vtJf",
        "colab_type": "code",
        "colab": {}
      },
      "source": [
        ""
      ],
      "execution_count": 0,
      "outputs": []
    },
    {
      "cell_type": "code",
      "metadata": {
        "id": "3pfjx8-u5rwB",
        "colab_type": "code",
        "colab": {}
      },
      "source": [
        " "
      ],
      "execution_count": 0,
      "outputs": []
    }
  ]
}
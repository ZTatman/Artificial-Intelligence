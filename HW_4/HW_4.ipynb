{
  "nbformat": 4,
  "nbformat_minor": 0,
  "metadata": {
    "colab": {
      "name": "HW_4.ipynb",
      "provenance": [],
      "collapsed_sections": [],
      "authorship_tag": "ABX9TyM9bPU8theajuk6qwBi0ie1",
      "include_colab_link": true
    },
    "kernelspec": {
      "name": "python3",
      "display_name": "Python 3"
    },
    "accelerator": "GPU"
  },
  "cells": [
    {
      "cell_type": "markdown",
      "metadata": {
        "id": "view-in-github",
        "colab_type": "text"
      },
      "source": [
        "<a href=\"https://colab.research.google.com/github/ZTatman/Artificial-Intelligence/blob/master/HW_4/HW_4.ipynb\" target=\"_parent\"><img src=\"https://colab.research.google.com/assets/colab-badge.svg\" alt=\"Open In Colab\"/></a>"
      ]
    },
    {
      "cell_type": "markdown",
      "metadata": {
        "id": "myVhTIUMCmni",
        "colab_type": "text"
      },
      "source": [
        "# Problem 1"
      ]
    },
    {
      "cell_type": "markdown",
      "metadata": {
        "id": "MIn1Zo9SC13O",
        "colab_type": "text"
      },
      "source": [
        "## Numpy Implementation of Conv2D (Example Using an MNIST Digit)"
      ]
    },
    {
      "cell_type": "code",
      "metadata": {
        "id": "jldgVY4-Cltz",
        "colab_type": "code",
        "colab": {
          "base_uri": "https://localhost:8080/",
          "height": 975
        },
        "outputId": "8f9e13f5-c9b5-428f-d7cd-cd49a50b60ed"
      },
      "source": [
        "from keras.datasets import mnist\n",
        "from keras.utils import to_categorical\n",
        "import numpy as np\n",
        "import matplotlib.pyplot as plt\n",
        "\n",
        "print()\n",
        "def main():\n",
        "  print(\"\\nBegin show MNIST image \\n\")\n",
        "\n",
        "  (train_images, train_labels), (test_images, test_labels) = mnist.load_data()\n",
        "\n",
        "  d = train_images[3]\n",
        "  d = d.reshape(28,28)\n",
        "  for row in range(0,28):\n",
        "    for col in range(0,28):\n",
        "      print(\"%02X \" % d[row][col], end=\"\")\n",
        "    print(\"\") \n",
        "\n",
        "  lbl = train_labels[3]\n",
        "  print(\"\\ndigit = \", lbl)\n",
        "\n",
        "  plt.imshow(d, cmap=plt.get_cmap('gray_r'))\n",
        "  plt.show()  \n",
        "\n",
        "  print(\"\\nEnd \\n\")\n",
        "\n",
        "if __name__ == \"__main__\":\n",
        "  main()\n"
      ],
      "execution_count": 2,
      "outputs": [
        {
          "output_type": "stream",
          "text": [
            "Using TensorFlow backend.\n"
          ],
          "name": "stderr"
        },
        {
          "output_type": "stream",
          "text": [
            "\n",
            "\n",
            "Begin show MNIST image \n",
            "\n",
            "Downloading data from https://s3.amazonaws.com/img-datasets/mnist.npz\n",
            "11493376/11490434 [==============================] - 1s 0us/step\n",
            "00 00 00 00 00 00 00 00 00 00 00 00 00 00 00 00 00 00 00 00 00 00 00 00 00 00 00 00 \n",
            "00 00 00 00 00 00 00 00 00 00 00 00 00 00 00 00 00 00 00 00 00 00 00 00 00 00 00 00 \n",
            "00 00 00 00 00 00 00 00 00 00 00 00 00 00 00 00 00 00 00 00 00 00 00 00 00 00 00 00 \n",
            "00 00 00 00 00 00 00 00 00 00 00 00 00 00 00 00 00 00 00 00 00 00 00 00 00 00 00 00 \n",
            "00 00 00 00 00 00 00 00 00 00 00 00 00 00 00 00 00 00 00 00 00 00 00 00 00 00 00 00 \n",
            "00 00 00 00 00 00 00 00 00 00 00 00 00 00 00 00 00 00 7C FD FF 3F 00 00 00 00 00 00 \n",
            "00 00 00 00 00 00 00 00 00 00 00 00 00 00 00 00 00 60 F4 FB FD 3E 00 00 00 00 00 00 \n",
            "00 00 00 00 00 00 00 00 00 00 00 00 00 00 00 00 00 7F FB FB FD 3E 00 00 00 00 00 00 \n",
            "00 00 00 00 00 00 00 00 00 00 00 00 00 00 00 00 44 EC FB D3 1F 08 00 00 00 00 00 00 \n",
            "00 00 00 00 00 00 00 00 00 00 00 00 00 00 00 3C E4 FB FB 5E 00 00 00 00 00 00 00 00 \n",
            "00 00 00 00 00 00 00 00 00 00 00 00 00 00 00 9B FD FD BD 00 00 00 00 00 00 00 00 00 \n",
            "00 00 00 00 00 00 00 00 00 00 00 00 00 00 14 FD FB EB 42 00 00 00 00 00 00 00 00 00 \n",
            "00 00 00 00 00 00 00 00 00 00 00 00 00 20 CD FD FB 7E 00 00 00 00 00 00 00 00 00 00 \n",
            "00 00 00 00 00 00 00 00 00 00 00 00 00 68 FB FD B8 0F 00 00 00 00 00 00 00 00 00 00 \n",
            "00 00 00 00 00 00 00 00 00 00 00 00 50 F0 FB C1 17 00 00 00 00 00 00 00 00 00 00 00 \n",
            "00 00 00 00 00 00 00 00 00 00 00 20 FD FD FD 9F 00 00 00 00 00 00 00 00 00 00 00 00 \n",
            "00 00 00 00 00 00 00 00 00 00 00 97 FB FB FB 27 00 00 00 00 00 00 00 00 00 00 00 00 \n",
            "00 00 00 00 00 00 00 00 00 00 30 DD FB FB AC 00 00 00 00 00 00 00 00 00 00 00 00 00 \n",
            "00 00 00 00 00 00 00 00 00 00 EA FB FB C4 0C 00 00 00 00 00 00 00 00 00 00 00 00 00 \n",
            "00 00 00 00 00 00 00 00 00 00 FD FB FB 59 00 00 00 00 00 00 00 00 00 00 00 00 00 00 \n",
            "00 00 00 00 00 00 00 00 00 9F FF FD FD 1F 00 00 00 00 00 00 00 00 00 00 00 00 00 00 \n",
            "00 00 00 00 00 00 00 00 30 E4 FD F7 8C 08 00 00 00 00 00 00 00 00 00 00 00 00 00 00 \n",
            "00 00 00 00 00 00 00 00 40 FB FD DC 00 00 00 00 00 00 00 00 00 00 00 00 00 00 00 00 \n",
            "00 00 00 00 00 00 00 00 40 FB FD DC 00 00 00 00 00 00 00 00 00 00 00 00 00 00 00 00 \n",
            "00 00 00 00 00 00 00 00 18 C1 FD DC 00 00 00 00 00 00 00 00 00 00 00 00 00 00 00 00 \n",
            "00 00 00 00 00 00 00 00 00 00 00 00 00 00 00 00 00 00 00 00 00 00 00 00 00 00 00 00 \n",
            "00 00 00 00 00 00 00 00 00 00 00 00 00 00 00 00 00 00 00 00 00 00 00 00 00 00 00 00 \n",
            "00 00 00 00 00 00 00 00 00 00 00 00 00 00 00 00 00 00 00 00 00 00 00 00 00 00 00 00 \n",
            "\n",
            "digit =  1\n"
          ],
          "name": "stdout"
        },
        {
          "output_type": "display_data",
          "data": {
            "image/png": "[encoded data removed]",
            "text/plain": [
              "<Figure size 432x288 with 1 Axes>"
            ]
          },
          "metadata": {
            "tags": [],
            "needs_background": "light"
          }
        },
        {
          "output_type": "stream",
          "text": [
            "\n",
            "End \n",
            "\n"
          ],
          "name": "stdout"
        }
      ]
    },
    {
      "cell_type": "code",
      "metadata": {
        "id": "5CT4DdOpA_ZA",
        "colab_type": "code",
        "colab": {}
      },
      "source": [
        "# Problem 1 test case\n",
        "input_mat = []\n",
        "kernel_mat = []\n",
        "\n",
        "# test case 4\n",
        "input_mat.append(np.array([[1, 0, 0, 0],\n",
        "                      [0, 1, 0, 0],\n",
        "                      [0, 0, 1, 0],\n",
        "                      [0, 0, 0, 1]]))\n",
        "kernel_mat.append(np.array([[1, 0, 0, 0],\n",
        "                      [0, 1, 0, 0],\n",
        "                      [0, 0, 1, 0],\n",
        "                      [0, 0, 0, 1]]))"
      ],
      "execution_count": 0,
      "outputs": []
    },
    {
      "cell_type": "code",
      "metadata": {
        "id": "LVuFa1I4IpQm",
        "colab_type": "code",
        "outputId": "320b197f-4ec1-4960-c398-7d5e93e2fb87",
        "colab": {
          "base_uri": "https://localhost:8080/",
          "height": 301
        }
      },
      "source": [
        "def conv2D(input_mat, patch_mat):\n",
        "\n",
        "  # Convert Lists to arrays\n",
        "  if isinstance(input_mat, list):\n",
        "    input_mat = input_mat[0]\n",
        "\n",
        "  if isinstance(patch_mat, list):\n",
        "    patch_mat = patch_mat[0]\n",
        "\n",
        "\n",
        "  # Make sure each mat is square\n",
        "  if (input_mat.shape[0] != input_mat.shape[1]):\n",
        "    raise Exception('Input Matrix is not square.')\n",
        "  if (patch_mat.shape[0] != patch_mat.shape[1]):\n",
        "    raise Exception('Patch Matrix is not square.')\n",
        "  \n",
        "  # Make sure kernel dimensions are not bigger than input dimensions\n",
        "  if (input_mat.shape[0] < patch_mat.shape[0]):\n",
        "    raise Exception('Kernel Matrix dimensions must fit within Input Matrix.')\n",
        "\n",
        "  # Make sure each mat is not empty\n",
        "  if (input_mat.shape[0] == 0 and input_mat.shape[1] == 0):\n",
        "    raise Exception('Input Matrix cannot be empty.')\n",
        "  if (patch_mat.shape[0] == 0 and patch_mat.shape[1] == 0):\n",
        "    raise Exception('Patch Matrix cannot be empty.')\n",
        "\n",
        "  print('\\nInput Matrix: \\n', input_mat)\n",
        "  print(f'\\nKernel Matrix: \\n{patch_mat}\\n')\n",
        "\n",
        "  # List of Matrix values\n",
        "  mat_values = []\n",
        "  # List of Max Values of each matrix\n",
        "  max_values = []\n",
        "  # Max value count\n",
        "  val_count = 0\n",
        "  # Valid padding flag (Tells when to drop values )\n",
        "  valid_pad_flag = False\n",
        "  \n",
        "\n",
        "  # Slide kernel over every postion in feature map \n",
        "  # and perform element-wise multpication\n",
        "  r_count = 0                                         # output_mat row counter\n",
        "  c_count = 0                                         # output_mat col counter\n",
        "\n",
        "  k_strt = 0                                        # Cols Indeces\n",
        "  k_end = patch_mat.shape[1]\n",
        "\n",
        "  z_strt = 0                                        # Rows Indeces\n",
        "  z_end = patch_mat.shape[0]\n",
        "  \n",
        "  for row in range(0, input_mat.shape[0]):          # For each row of input mat\n",
        "    # Row Padding\n",
        "    if (z_end > input_mat.shape[0]):\n",
        "      valid_pad_flag = True\n",
        "      z_end = input_mat.shape[0];\n",
        "    elif (z_end == input_mat.shape[0]):\n",
        "      z_end = input_mat.shape[0];\n",
        "      r_count += 1\n",
        "    else:\n",
        "      z_end = z_end;\n",
        "      r_count += 1\n",
        "    # print(f\"---> Row: {z_strt} -> {z_end} , r_pad: {r_pad}\")\n",
        "    \n",
        "    for col in range(0, input_mat.shape[1]):        # For each col of input mat\n",
        "      # Col Valid Padding\n",
        "      if (k_end > input_mat.shape[0]):\n",
        "        valid_pad_flag = True\n",
        "        k_end = input_mat.shape[0];\n",
        "      elif (k_end == input_mat.shape[0]):\n",
        "        k_end = input_mat.shape[0];\n",
        "      else:\n",
        "        k_end = k_end;\n",
        "      # print(f\"---> Col: {k_strt} -> {k_end} , c_pad: {c_pad}\")\n",
        "     \n",
        "      # Perform element-wise operation (when flag is false)\n",
        "      sum = 0\n",
        "      if (valid_pad_flag == False):\n",
        "      \n",
        "        # print(f'Valid Values: row[{z_strt}:{z_end}], col[{k_strt}:{k_end}]\\n')\n",
        "        for i in range(z_strt, z_end):\n",
        "          for j in range(k_strt, k_end):\n",
        "            product = input_mat[i][j] * int(patch_mat[i - row][j - col])\n",
        "            sum += product\n",
        "            mat_values.append(sum)\n",
        "            # print(f\"({input_mat[i][j]})\", end=\"\")\n",
        "            # print(f\"({product})\", end=\"\")\n",
        "          # print(\"\")\n",
        "        # print(f'Summed Element: {sum}')\n",
        "      else:\n",
        "        continue\n",
        "\n",
        "      if (len(mat_values) != 0):\n",
        "        max_value = max(mat_values)\n",
        "        max_values.append(max_value)\n",
        "        val_count += 1\n",
        "        # print(f\"Max Value: {max_value}\\n\")\n",
        "        mat_values.clear()\n",
        "      k_end += 1\n",
        "      k_strt += 1\n",
        "    c_pad = 0\n",
        "    k_end = patch_mat.shape[1]\n",
        "    k_strt = 0\n",
        "    z_end += 1\n",
        "    z_strt += 1\n",
        "    valid_pad_flag = False\n",
        "  # print('Value Count: ', val_count)\n",
        "  # print('Max Values: \\n', max_values)\n",
        "  # print(f'Row/Col Count: rows({r_count}), cols({c_count})\\n')\n",
        "  output_mat = np.asarray(max_values).reshape(r_count,r_count)\n",
        "  print('\\nOutput Matrix: \\n', output_mat)\n",
        "  return output_mat\n",
        "output_mat = conv2D(input_mat, kernel_mat)\n"
      ],
      "execution_count": 4,
      "outputs": [
        {
          "output_type": "stream",
          "text": [
            "\n",
            "Input Matrix: \n",
            " [[1 0 0 0]\n",
            " [0 1 0 0]\n",
            " [0 0 1 0]\n",
            " [0 0 0 1]]\n",
            "\n",
            "Kernel Matrix: \n",
            "[[1 0 0 0]\n",
            " [0 1 0 0]\n",
            " [0 0 1 0]\n",
            " [0 0 0 1]]\n",
            "\n",
            "\n",
            "Output Matrix: \n",
            " [[4]]\n"
          ],
          "name": "stdout"
        }
      ]
    },
    {
      "cell_type": "markdown",
      "metadata": {
        "id": "EnTlLrSSCm8G",
        "colab_type": "text"
      },
      "source": [
        "# Problem 2\n"
      ]
    },
    {
      "cell_type": "markdown",
      "metadata": {
        "id": "W3u7huMpDN_v",
        "colab_type": "text"
      },
      "source": [
        "#### Numpy Implementation of MaxPooling2D"
      ]
    },
    {
      "cell_type": "code",
      "metadata": {
        "id": "s8fiRQ6K01SX",
        "colab_type": "code",
        "colab": {}
      },
      "source": [
        "import numpy as np\n",
        "\n",
        "input_mat = []\n",
        "expected_mat = []\n",
        "s = []\n",
        "input_mat.append(np.array([[1, 2, 1, 2, 4, 5],\n",
        "                      [2, 4, 2, 1, 0, 3],\n",
        "                      [1, 2, 4, 2, 4, 5],\n",
        "                      [2, 1, 2, 1, 2, 1],\n",
        "                      [1, 1, 2, 3, 1, 2],\n",
        "                      [1, 1, 2, 3, 1, 2]]))\n",
        "s.append(2)\n"
      ],
      "execution_count": 0,
      "outputs": []
    },
    {
      "cell_type": "code",
      "metadata": {
        "id": "OBfNw-7ECz_5",
        "colab_type": "code",
        "outputId": "697b935d-53de-481a-af6d-4fbd95ba9a0f",
        "colab": {
          "base_uri": "https://localhost:8080/",
          "height": 301
        }
      },
      "source": [
        "import numpy as np\n",
        "import matplotlib.pyplot as plt\n",
        "\n",
        "\n",
        "def maxpooling2d(input_mat, s):\n",
        "  # Convert Lists to arrays\n",
        "  if isinstance(input_mat, list):\n",
        "    input_mat = input_mat[0]\n",
        "  \n",
        "  if isinstance(s, list):\n",
        "    s = s[0]\n",
        "\n",
        "  # Make sure each mat is square\n",
        "  if (input_mat.shape[0] != input_mat.shape[1]):\n",
        "    raise Exception('Input Matrix is not square.')\n",
        "\n",
        "  # Make sure each mat dimension not 0\n",
        "  if (input_mat.shape[0] == 0 or input_mat.shape[1] == 0):\n",
        "    raise Exception('One or more dimensions of Input Matrix is 0.')\n",
        "\n",
        "  if (input_mat.shape[0] == 0 and input_mat.shape[1] == 0):\n",
        "    raise Exception('Input Matrix cannot be empty.')\n",
        "\n",
        "  # Make sure s > 0\n",
        "  if (s <= 0): \n",
        "    raise Exception('Shape, s, must be greater than 0.')\n",
        "\n",
        "  # Make sure window size fits within input_mat\n",
        "  if (s >= input_mat.shape[0]):\n",
        "    raise Exception(f'Shape, S, must be less than input_mat dimension {input_mat.shape[0]}')\n",
        "\n",
        "  print('\\nInput Matrix: \\n', input_mat)\n",
        "  print(f'\\nWindow Shape: ({s},{s})\\n')\n",
        "\n",
        "  # List of Matrix values\n",
        "  mat_values = []\n",
        "  # List of Max Values of each matrix\n",
        "  max_values = []\n",
        "  # Max value count\n",
        "  val_count = 0\n",
        "  \n",
        "\n",
        "  # Slide kernel over every postion in feature map \n",
        "  # and perform element-wise multpication\n",
        "  r_count = 0                                         # output_mat row counter\n",
        "  c_count = 0                                         # output_mat col counter\n",
        "\n",
        "  k_strt = 0                                        # Cols Indeces\n",
        "  k_end = s\n",
        "  z_strt = 0                                        # Rows Indeces\n",
        "  z_end = s\n",
        "  stride = 2                                        # Stride\n",
        "  \n",
        "  for row in range(0, input_mat.shape[0], stride):          # For each row of input mat\n",
        "    # print(f'-----ROW ITER {row}-----')\n",
        "    # Row Padding\n",
        "    if (z_end > input_mat.shape[0]):\n",
        "      valid_pad_flag = True\n",
        "      z_end = input_mat.shape[0];\n",
        "    elif (z_end == input_mat.shape[0]):\n",
        "      z_end = input_mat.shape[0];\n",
        "      r_count += 1\n",
        "    else:\n",
        "      z_end = z_end;\n",
        "      r_count += 1\n",
        "\n",
        "    # print(f\"---> Row: {z_strt} -> {z_end} , r_pad: __\")\n",
        "\n",
        "\n",
        "    for col in range(0, input_mat.shape[1], stride):        # For each col of input mat\n",
        "      # print(f'-----COLUMN ITER {col}-----')\n",
        "      # print(f\"---> Evaluating Col: {k_strt} -> {k_end} , c_pad: __\")\n",
        "\n",
        "      # Col Valid Padding\n",
        "      if (k_end > input_mat.shape[0]):\n",
        "        k_end = input_mat.shape[0];\n",
        "      elif (k_end == input_mat.shape[0]):\n",
        "        k_end = input_mat.shape[0];\n",
        "      else:\n",
        "        k_end = k_end;\n",
        "\n",
        "      # print(f\"---> Col: k_strt:{k_strt} -> k_end:{k_end} , c_pad: __\")\n",
        "      # Perform element-wise operation\n",
        "      for i in range(z_strt, z_end):\n",
        "        for j in range(k_strt, k_end):\n",
        "          product = input_mat[i][j]\n",
        "          mat_values.append(product)\n",
        "          # print(f\"({product})\", end=\"\")\n",
        "        # print(\"\")\n",
        "     \n",
        "      if (len(mat_values) != 0):\n",
        "        max_value = max(mat_values)\n",
        "        max_values.append(max_value)\n",
        "        val_count += 1\n",
        "        # print(f\"Max Value: {max_value}\", end=\"\")\n",
        "\n",
        "      mat_values.clear()\n",
        "      k_end += stride\n",
        "      k_strt += stride\n",
        "      # print(f\"\\n---> Next Col: {k_strt} -> {k_end} , c_pad: __\")\n",
        "\n",
        "      # print(\"\")\n",
        "    k_end = s\n",
        "    k_strt = 0\n",
        "    z_strt += stride\n",
        "    z_end = z_strt + s\n",
        "  # print('Value Count: ', val_count)\n",
        "  # print('Max Values: \\n', max_values)\n",
        "  dimension = int(np.sqrt(int((np.square(input_mat.shape[0])) / (np.square(s)))))\n",
        "  # print(dimension)\n",
        "  output_mat = np.asarray(max_values).reshape(dimension , dimension)\n",
        "  print('\\nOutput Matrix: \\n', output_mat)\n",
        "  return output_mat\n",
        "  \n",
        "\n",
        "result = maxpooling2d(input_mat, 2)\n"
      ],
      "execution_count": 6,
      "outputs": [
        {
          "output_type": "stream",
          "text": [
            "\n",
            "Input Matrix: \n",
            " [[1 2 1 2 4 5]\n",
            " [2 4 2 1 0 3]\n",
            " [1 2 4 2 4 5]\n",
            " [2 1 2 1 2 1]\n",
            " [1 1 2 3 1 2]\n",
            " [1 1 2 3 1 2]]\n",
            "\n",
            "Window Shape: (2,2)\n",
            "\n",
            "\n",
            "Output Matrix: \n",
            " [[4 2 5]\n",
            " [2 4 5]\n",
            " [1 3 2]]\n"
          ],
          "name": "stdout"
        }
      ]
    },
    {
      "cell_type": "code",
      "metadata": {
        "id": "MbG4yj2ms_ZA",
        "colab_type": "code",
        "colab": {}
      },
      "source": [
        ""
      ],
      "execution_count": 0,
      "outputs": []
    }
  ]
}
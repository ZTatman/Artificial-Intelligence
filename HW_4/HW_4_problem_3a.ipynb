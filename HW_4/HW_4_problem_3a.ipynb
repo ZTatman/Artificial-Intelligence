{
  "nbformat": 4,
  "nbformat_minor": 0,
  "metadata": {
    "colab": {
      "name": "HW_4_problem_3a.ipynb",
      "provenance": [],
      "collapsed_sections": [],
      "authorship_tag": "ABX9TyOIwxAw3LVvH9g7O852vTt5",
      "include_colab_link": true
    },
    "kernelspec": {
      "name": "python3",
      "display_name": "Python 3"
    },
    "accelerator": "GPU"
  },
  "cells": [
    {
      "cell_type": "markdown",
      "metadata": {
        "id": "view-in-github",
        "colab_type": "text"
      },
      "source": [
        "<a href=\"https://colab.research.google.com/github/ZTatman/Artificial-Intelligence/blob/master/HW_4/HW_4_problem_3a.ipynb\" target=\"_parent\"><img src=\"https://colab.research.google.com/assets/colab-badge.svg\" alt=\"Open In Colab\"/></a>"
      ]
    },
    {
      "cell_type": "markdown",
      "metadata": {
        "id": "66IjZpIu9zoL",
        "colab_type": "text"
      },
      "source": [
        "## Homework 3 Problem Part A"
      ]
    },
    {
      "cell_type": "markdown",
      "metadata": {
        "id": "JTSJzafNHPy8",
        "colab_type": "text"
      },
      "source": [
        "# Download Cat and Dog Data"
      ]
    },
    {
      "cell_type": "code",
      "metadata": {
        "id": "nPVM_S4F9-Ca",
        "colab_type": "code",
        "outputId": "f8606c81-4dc8-47cd-a63f-400505d36389",
        "colab": {
          "base_uri": "https://localhost:8080/",
          "height": 212
        }
      },
      "source": [
        "!wget --no-check-certificate \\\n",
        "    https://storage.googleapis.com/mledu-datasets/cats_and_dogs_filtered.zip \\\n",
        "    -O /tmp/cats_and_dogs_filtered.zip"
      ],
      "execution_count": 1,
      "outputs": [
        {
          "output_type": "stream",
          "text": [
            "--2020-04-21 21:02:57--  https://storage.googleapis.com/mledu-datasets/cats_and_dogs_filtered.zip\n",
            "Resolving storage.googleapis.com (storage.googleapis.com)... 74.125.28.128, 2607:f8b0:400e:c07::80\n",
            "Connecting to storage.googleapis.com (storage.googleapis.com)|74.125.28.128|:443... connected.\n",
            "HTTP request sent, awaiting response... 200 OK\n",
            "Length: 68606236 (65M) [application/zip]\n",
            "Saving to: ‘/tmp/cats_and_dogs_filtered.zip’\n",
            "\n",
            "/tmp/cats_and_dogs_ 100%[===================>]  65.43M   117MB/s    in 0.6s    \n",
            "\n",
            "2020-04-21 21:02:58 (117 MB/s) - ‘/tmp/cats_and_dogs_filtered.zip’ saved [68606236/68606236]\n",
            "\n"
          ],
          "name": "stdout"
        }
      ]
    },
    {
      "cell_type": "code",
      "metadata": {
        "id": "zhoJYKC3996g",
        "colab_type": "code",
        "colab": {}
      },
      "source": [
        "import os\n",
        "import zipfile\n",
        "\n",
        "local_zip = '/tmp/cats_and_dogs_filtered.zip'\n",
        "zip_ref = zipfile.ZipFile(local_zip, 'r')\n",
        "zip_ref.extractall('/tmp')\n",
        "zip_ref.close()"
      ],
      "execution_count": 0,
      "outputs": []
    },
    {
      "cell_type": "code",
      "metadata": {
        "id": "YQbNn4FW99uA",
        "colab_type": "code",
        "colab": {}
      },
      "source": [
        "base_dir = '/tmp/cats_and_dogs_filtered'\n",
        "train_dir = os.path.join(base_dir, 'train')\n",
        "validation_dir = os.path.join(base_dir, 'validation')\n",
        "\n",
        "# Directory with our training cat pictures\n",
        "train_cats_dir = os.path.join(train_dir, 'cats')\n",
        "\n",
        "# Directory with our training dog pictures\n",
        "train_dogs_dir = os.path.join(train_dir, 'dogs')\n",
        "\n",
        "# Directory with our validation cat pictures\n",
        "validation_cats_dir = os.path.join(validation_dir, 'cats')\n",
        "\n",
        "# Directory with our validation dog pictures\n",
        "validation_dogs_dir = os.path.join(validation_dir, 'dogs')"
      ],
      "execution_count": 0,
      "outputs": []
    },
    {
      "cell_type": "markdown",
      "metadata": {
        "id": "H7CTGQlBHfjw",
        "colab_type": "text"
      },
      "source": [
        "# Build network with Xception conv_base and custom classifier"
      ]
    },
    {
      "cell_type": "code",
      "metadata": {
        "id": "SKdeMLjd_T1v",
        "colab_type": "code",
        "outputId": "76cea07c-27ad-4ffc-c565-ded0bdc9dd42",
        "colab": {
          "base_uri": "https://localhost:8080/",
          "height": 1000
        }
      },
      "source": [
        "from keras.applications import Xception\n",
        "\n",
        "conv_base = Xception(weights='imagenet',\n",
        "                     include_top=False,\n",
        "                     input_shape=(150, 150, 3))\n",
        "conv_base.summary()"
      ],
      "execution_count": 4,
      "outputs": [
        {
          "output_type": "stream",
          "text": [
            "Using TensorFlow backend.\n"
          ],
          "name": "stderr"
        },
        {
          "output_type": "stream",
          "text": [
            "Downloading data from https://github.com/fchollet/deep-learning-models/releases/download/v0.4/xception_weights_tf_dim_ordering_tf_kernels_notop.h5\n",
            "83689472/83683744 [==============================] - 2s 0us/step\n",
            "Model: \"xception\"\n",
            "__________________________________________________________________________________________________\n",
            "Layer (type)                    Output Shape         Param #     Connected to                     \n",
            "==================================================================================================\n",
            "input_1 (InputLayer)            (None, 150, 150, 3)  0                                            \n",
            "__________________________________________________________________________________________________\n",
            "block1_conv1 (Conv2D)           (None, 74, 74, 32)   864         input_1[0][0]                    \n",
            "__________________________________________________________________________________________________\n",
            "block1_conv1_bn (BatchNormaliza (None, 74, 74, 32)   128         block1_conv1[0][0]               \n",
            "__________________________________________________________________________________________________\n",
            "block1_conv1_act (Activation)   (None, 74, 74, 32)   0           block1_conv1_bn[0][0]            \n",
            "__________________________________________________________________________________________________\n",
            "block1_conv2 (Conv2D)           (None, 72, 72, 64)   18432       block1_conv1_act[0][0]           \n",
            "__________________________________________________________________________________________________\n",
            "block1_conv2_bn (BatchNormaliza (None, 72, 72, 64)   256         block1_conv2[0][0]               \n",
            "__________________________________________________________________________________________________\n",
            "block1_conv2_act (Activation)   (None, 72, 72, 64)   0           block1_conv2_bn[0][0]            \n",
            "__________________________________________________________________________________________________\n",
            "block2_sepconv1 (SeparableConv2 (None, 72, 72, 128)  8768        block1_conv2_act[0][0]           \n",
            "__________________________________________________________________________________________________\n",
            "block2_sepconv1_bn (BatchNormal (None, 72, 72, 128)  512         block2_sepconv1[0][0]            \n",
            "__________________________________________________________________________________________________\n",
            "block2_sepconv2_act (Activation (None, 72, 72, 128)  0           block2_sepconv1_bn[0][0]         \n",
            "__________________________________________________________________________________________________\n",
            "block2_sepconv2 (SeparableConv2 (None, 72, 72, 128)  17536       block2_sepconv2_act[0][0]        \n",
            "__________________________________________________________________________________________________\n",
            "block2_sepconv2_bn (BatchNormal (None, 72, 72, 128)  512         block2_sepconv2[0][0]            \n",
            "__________________________________________________________________________________________________\n",
            "conv2d_1 (Conv2D)               (None, 36, 36, 128)  8192        block1_conv2_act[0][0]           \n",
            "__________________________________________________________________________________________________\n",
            "block2_pool (MaxPooling2D)      (None, 36, 36, 128)  0           block2_sepconv2_bn[0][0]         \n",
            "__________________________________________________________________________________________________\n",
            "batch_normalization_1 (BatchNor (None, 36, 36, 128)  512         conv2d_1[0][0]                   \n",
            "__________________________________________________________________________________________________\n",
            "add_1 (Add)                     (None, 36, 36, 128)  0           block2_pool[0][0]                \n",
            "                                                                 batch_normalization_1[0][0]      \n",
            "__________________________________________________________________________________________________\n",
            "block3_sepconv1_act (Activation (None, 36, 36, 128)  0           add_1[0][0]                      \n",
            "__________________________________________________________________________________________________\n",
            "block3_sepconv1 (SeparableConv2 (None, 36, 36, 256)  33920       block3_sepconv1_act[0][0]        \n",
            "__________________________________________________________________________________________________\n",
            "block3_sepconv1_bn (BatchNormal (None, 36, 36, 256)  1024        block3_sepconv1[0][0]            \n",
            "__________________________________________________________________________________________________\n",
            "block3_sepconv2_act (Activation (None, 36, 36, 256)  0           block3_sepconv1_bn[0][0]         \n",
            "__________________________________________________________________________________________________\n",
            "block3_sepconv2 (SeparableConv2 (None, 36, 36, 256)  67840       block3_sepconv2_act[0][0]        \n",
            "__________________________________________________________________________________________________\n",
            "block3_sepconv2_bn (BatchNormal (None, 36, 36, 256)  1024        block3_sepconv2[0][0]            \n",
            "__________________________________________________________________________________________________\n",
            "conv2d_2 (Conv2D)               (None, 18, 18, 256)  32768       add_1[0][0]                      \n",
            "__________________________________________________________________________________________________\n",
            "block3_pool (MaxPooling2D)      (None, 18, 18, 256)  0           block3_sepconv2_bn[0][0]         \n",
            "__________________________________________________________________________________________________\n",
            "batch_normalization_2 (BatchNor (None, 18, 18, 256)  1024        conv2d_2[0][0]                   \n",
            "__________________________________________________________________________________________________\n",
            "add_2 (Add)                     (None, 18, 18, 256)  0           block3_pool[0][0]                \n",
            "                                                                 batch_normalization_2[0][0]      \n",
            "__________________________________________________________________________________________________\n",
            "block4_sepconv1_act (Activation (None, 18, 18, 256)  0           add_2[0][0]                      \n",
            "__________________________________________________________________________________________________\n",
            "block4_sepconv1 (SeparableConv2 (None, 18, 18, 728)  188672      block4_sepconv1_act[0][0]        \n",
            "__________________________________________________________________________________________________\n",
            "block4_sepconv1_bn (BatchNormal (None, 18, 18, 728)  2912        block4_sepconv1[0][0]            \n",
            "__________________________________________________________________________________________________\n",
            "block4_sepconv2_act (Activation (None, 18, 18, 728)  0           block4_sepconv1_bn[0][0]         \n",
            "__________________________________________________________________________________________________\n",
            "block4_sepconv2 (SeparableConv2 (None, 18, 18, 728)  536536      block4_sepconv2_act[0][0]        \n",
            "__________________________________________________________________________________________________\n",
            "block4_sepconv2_bn (BatchNormal (None, 18, 18, 728)  2912        block4_sepconv2[0][0]            \n",
            "__________________________________________________________________________________________________\n",
            "conv2d_3 (Conv2D)               (None, 9, 9, 728)    186368      add_2[0][0]                      \n",
            "__________________________________________________________________________________________________\n",
            "block4_pool (MaxPooling2D)      (None, 9, 9, 728)    0           block4_sepconv2_bn[0][0]         \n",
            "__________________________________________________________________________________________________\n",
            "batch_normalization_3 (BatchNor (None, 9, 9, 728)    2912        conv2d_3[0][0]                   \n",
            "__________________________________________________________________________________________________\n",
            "add_3 (Add)                     (None, 9, 9, 728)    0           block4_pool[0][0]                \n",
            "                                                                 batch_normalization_3[0][0]      \n",
            "__________________________________________________________________________________________________\n",
            "block5_sepconv1_act (Activation (None, 9, 9, 728)    0           add_3[0][0]                      \n",
            "__________________________________________________________________________________________________\n",
            "block5_sepconv1 (SeparableConv2 (None, 9, 9, 728)    536536      block5_sepconv1_act[0][0]        \n",
            "__________________________________________________________________________________________________\n",
            "block5_sepconv1_bn (BatchNormal (None, 9, 9, 728)    2912        block5_sepconv1[0][0]            \n",
            "__________________________________________________________________________________________________\n",
            "block5_sepconv2_act (Activation (None, 9, 9, 728)    0           block5_sepconv1_bn[0][0]         \n",
            "__________________________________________________________________________________________________\n",
            "block5_sepconv2 (SeparableConv2 (None, 9, 9, 728)    536536      block5_sepconv2_act[0][0]        \n",
            "__________________________________________________________________________________________________\n",
            "block5_sepconv2_bn (BatchNormal (None, 9, 9, 728)    2912        block5_sepconv2[0][0]            \n",
            "__________________________________________________________________________________________________\n",
            "block5_sepconv3_act (Activation (None, 9, 9, 728)    0           block5_sepconv2_bn[0][0]         \n",
            "__________________________________________________________________________________________________\n",
            "block5_sepconv3 (SeparableConv2 (None, 9, 9, 728)    536536      block5_sepconv3_act[0][0]        \n",
            "__________________________________________________________________________________________________\n",
            "block5_sepconv3_bn (BatchNormal (None, 9, 9, 728)    2912        block5_sepconv3[0][0]            \n",
            "__________________________________________________________________________________________________\n",
            "add_4 (Add)                     (None, 9, 9, 728)    0           block5_sepconv3_bn[0][0]         \n",
            "                                                                 add_3[0][0]                      \n",
            "__________________________________________________________________________________________________\n",
            "block6_sepconv1_act (Activation (None, 9, 9, 728)    0           add_4[0][0]                      \n",
            "__________________________________________________________________________________________________\n",
            "block6_sepconv1 (SeparableConv2 (None, 9, 9, 728)    536536      block6_sepconv1_act[0][0]        \n",
            "__________________________________________________________________________________________________\n",
            "block6_sepconv1_bn (BatchNormal (None, 9, 9, 728)    2912        block6_sepconv1[0][0]            \n",
            "__________________________________________________________________________________________________\n",
            "block6_sepconv2_act (Activation (None, 9, 9, 728)    0           block6_sepconv1_bn[0][0]         \n",
            "__________________________________________________________________________________________________\n",
            "block6_sepconv2 (SeparableConv2 (None, 9, 9, 728)    536536      block6_sepconv2_act[0][0]        \n",
            "__________________________________________________________________________________________________\n",
            "block6_sepconv2_bn (BatchNormal (None, 9, 9, 728)    2912        block6_sepconv2[0][0]            \n",
            "__________________________________________________________________________________________________\n",
            "block6_sepconv3_act (Activation (None, 9, 9, 728)    0           block6_sepconv2_bn[0][0]         \n",
            "__________________________________________________________________________________________________\n",
            "block6_sepconv3 (SeparableConv2 (None, 9, 9, 728)    536536      block6_sepconv3_act[0][0]        \n",
            "__________________________________________________________________________________________________\n",
            "block6_sepconv3_bn (BatchNormal (None, 9, 9, 728)    2912        block6_sepconv3[0][0]            \n",
            "__________________________________________________________________________________________________\n",
            "add_5 (Add)                     (None, 9, 9, 728)    0           block6_sepconv3_bn[0][0]         \n",
            "                                                                 add_4[0][0]                      \n",
            "__________________________________________________________________________________________________\n",
            "block7_sepconv1_act (Activation (None, 9, 9, 728)    0           add_5[0][0]                      \n",
            "__________________________________________________________________________________________________\n",
            "block7_sepconv1 (SeparableConv2 (None, 9, 9, 728)    536536      block7_sepconv1_act[0][0]        \n",
            "__________________________________________________________________________________________________\n",
            "block7_sepconv1_bn (BatchNormal (None, 9, 9, 728)    2912        block7_sepconv1[0][0]            \n",
            "__________________________________________________________________________________________________\n",
            "block7_sepconv2_act (Activation (None, 9, 9, 728)    0           block7_sepconv1_bn[0][0]         \n",
            "__________________________________________________________________________________________________\n",
            "block7_sepconv2 (SeparableConv2 (None, 9, 9, 728)    536536      block7_sepconv2_act[0][0]        \n",
            "__________________________________________________________________________________________________\n",
            "block7_sepconv2_bn (BatchNormal (None, 9, 9, 728)    2912        block7_sepconv2[0][0]            \n",
            "__________________________________________________________________________________________________\n",
            "block7_sepconv3_act (Activation (None, 9, 9, 728)    0           block7_sepconv2_bn[0][0]         \n",
            "__________________________________________________________________________________________________\n",
            "block7_sepconv3 (SeparableConv2 (None, 9, 9, 728)    536536      block7_sepconv3_act[0][0]        \n",
            "__________________________________________________________________________________________________\n",
            "block7_sepconv3_bn (BatchNormal (None, 9, 9, 728)    2912        block7_sepconv3[0][0]            \n",
            "__________________________________________________________________________________________________\n",
            "add_6 (Add)                     (None, 9, 9, 728)    0           block7_sepconv3_bn[0][0]         \n",
            "                                                                 add_5[0][0]                      \n",
            "__________________________________________________________________________________________________\n",
            "block8_sepconv1_act (Activation (None, 9, 9, 728)    0           add_6[0][0]                      \n",
            "__________________________________________________________________________________________________\n",
            "block8_sepconv1 (SeparableConv2 (None, 9, 9, 728)    536536      block8_sepconv1_act[0][0]        \n",
            "__________________________________________________________________________________________________\n",
            "block8_sepconv1_bn (BatchNormal (None, 9, 9, 728)    2912        block8_sepconv1[0][0]            \n",
            "__________________________________________________________________________________________________\n",
            "block8_sepconv2_act (Activation (None, 9, 9, 728)    0           block8_sepconv1_bn[0][0]         \n",
            "__________________________________________________________________________________________________\n",
            "block8_sepconv2 (SeparableConv2 (None, 9, 9, 728)    536536      block8_sepconv2_act[0][0]        \n",
            "__________________________________________________________________________________________________\n",
            "block8_sepconv2_bn (BatchNormal (None, 9, 9, 728)    2912        block8_sepconv2[0][0]            \n",
            "__________________________________________________________________________________________________\n",
            "block8_sepconv3_act (Activation (None, 9, 9, 728)    0           block8_sepconv2_bn[0][0]         \n",
            "__________________________________________________________________________________________________\n",
            "block8_sepconv3 (SeparableConv2 (None, 9, 9, 728)    536536      block8_sepconv3_act[0][0]        \n",
            "__________________________________________________________________________________________________\n",
            "block8_sepconv3_bn (BatchNormal (None, 9, 9, 728)    2912        block8_sepconv3[0][0]            \n",
            "__________________________________________________________________________________________________\n",
            "add_7 (Add)                     (None, 9, 9, 728)    0           block8_sepconv3_bn[0][0]         \n",
            "                                                                 add_6[0][0]                      \n",
            "__________________________________________________________________________________________________\n",
            "block9_sepconv1_act (Activation (None, 9, 9, 728)    0           add_7[0][0]                      \n",
            "__________________________________________________________________________________________________\n",
            "block9_sepconv1 (SeparableConv2 (None, 9, 9, 728)    536536      block9_sepconv1_act[0][0]        \n",
            "__________________________________________________________________________________________________\n",
            "block9_sepconv1_bn (BatchNormal (None, 9, 9, 728)    2912        block9_sepconv1[0][0]            \n",
            "__________________________________________________________________________________________________\n",
            "block9_sepconv2_act (Activation (None, 9, 9, 728)    0           block9_sepconv1_bn[0][0]         \n",
            "__________________________________________________________________________________________________\n",
            "block9_sepconv2 (SeparableConv2 (None, 9, 9, 728)    536536      block9_sepconv2_act[0][0]        \n",
            "__________________________________________________________________________________________________\n",
            "block9_sepconv2_bn (BatchNormal (None, 9, 9, 728)    2912        block9_sepconv2[0][0]            \n",
            "__________________________________________________________________________________________________\n",
            "block9_sepconv3_act (Activation (None, 9, 9, 728)    0           block9_sepconv2_bn[0][0]         \n",
            "__________________________________________________________________________________________________\n",
            "block9_sepconv3 (SeparableConv2 (None, 9, 9, 728)    536536      block9_sepconv3_act[0][0]        \n",
            "__________________________________________________________________________________________________\n",
            "block9_sepconv3_bn (BatchNormal (None, 9, 9, 728)    2912        block9_sepconv3[0][0]            \n",
            "__________________________________________________________________________________________________\n",
            "add_8 (Add)                     (None, 9, 9, 728)    0           block9_sepconv3_bn[0][0]         \n",
            "                                                                 add_7[0][0]                      \n",
            "__________________________________________________________________________________________________\n",
            "block10_sepconv1_act (Activatio (None, 9, 9, 728)    0           add_8[0][0]                      \n",
            "__________________________________________________________________________________________________\n",
            "block10_sepconv1 (SeparableConv (None, 9, 9, 728)    536536      block10_sepconv1_act[0][0]       \n",
            "__________________________________________________________________________________________________\n",
            "block10_sepconv1_bn (BatchNorma (None, 9, 9, 728)    2912        block10_sepconv1[0][0]           \n",
            "__________________________________________________________________________________________________\n",
            "block10_sepconv2_act (Activatio (None, 9, 9, 728)    0           block10_sepconv1_bn[0][0]        \n",
            "__________________________________________________________________________________________________\n",
            "block10_sepconv2 (SeparableConv (None, 9, 9, 728)    536536      block10_sepconv2_act[0][0]       \n",
            "__________________________________________________________________________________________________\n",
            "block10_sepconv2_bn (BatchNorma (None, 9, 9, 728)    2912        block10_sepconv2[0][0]           \n",
            "__________________________________________________________________________________________________\n",
            "block10_sepconv3_act (Activatio (None, 9, 9, 728)    0           block10_sepconv2_bn[0][0]        \n",
            "__________________________________________________________________________________________________\n",
            "block10_sepconv3 (SeparableConv (None, 9, 9, 728)    536536      block10_sepconv3_act[0][0]       \n",
            "__________________________________________________________________________________________________\n",
            "block10_sepconv3_bn (BatchNorma (None, 9, 9, 728)    2912        block10_sepconv3[0][0]           \n",
            "__________________________________________________________________________________________________\n",
            "add_9 (Add)                     (None, 9, 9, 728)    0           block10_sepconv3_bn[0][0]        \n",
            "                                                                 add_8[0][0]                      \n",
            "__________________________________________________________________________________________________\n",
            "block11_sepconv1_act (Activatio (None, 9, 9, 728)    0           add_9[0][0]                      \n",
            "__________________________________________________________________________________________________\n",
            "block11_sepconv1 (SeparableConv (None, 9, 9, 728)    536536      block11_sepconv1_act[0][0]       \n",
            "__________________________________________________________________________________________________\n",
            "block11_sepconv1_bn (BatchNorma (None, 9, 9, 728)    2912        block11_sepconv1[0][0]           \n",
            "__________________________________________________________________________________________________\n",
            "block11_sepconv2_act (Activatio (None, 9, 9, 728)    0           block11_sepconv1_bn[0][0]        \n",
            "__________________________________________________________________________________________________\n",
            "block11_sepconv2 (SeparableConv (None, 9, 9, 728)    536536      block11_sepconv2_act[0][0]       \n",
            "__________________________________________________________________________________________________\n",
            "block11_sepconv2_bn (BatchNorma (None, 9, 9, 728)    2912        block11_sepconv2[0][0]           \n",
            "__________________________________________________________________________________________________\n",
            "block11_sepconv3_act (Activatio (None, 9, 9, 728)    0           block11_sepconv2_bn[0][0]        \n",
            "__________________________________________________________________________________________________\n",
            "block11_sepconv3 (SeparableConv (None, 9, 9, 728)    536536      block11_sepconv3_act[0][0]       \n",
            "__________________________________________________________________________________________________\n",
            "block11_sepconv3_bn (BatchNorma (None, 9, 9, 728)    2912        block11_sepconv3[0][0]           \n",
            "__________________________________________________________________________________________________\n",
            "add_10 (Add)                    (None, 9, 9, 728)    0           block11_sepconv3_bn[0][0]        \n",
            "                                                                 add_9[0][0]                      \n",
            "__________________________________________________________________________________________________\n",
            "block12_sepconv1_act (Activatio (None, 9, 9, 728)    0           add_10[0][0]                     \n",
            "__________________________________________________________________________________________________\n",
            "block12_sepconv1 (SeparableConv (None, 9, 9, 728)    536536      block12_sepconv1_act[0][0]       \n",
            "__________________________________________________________________________________________________\n",
            "block12_sepconv1_bn (BatchNorma (None, 9, 9, 728)    2912        block12_sepconv1[0][0]           \n",
            "__________________________________________________________________________________________________\n",
            "block12_sepconv2_act (Activatio (None, 9, 9, 728)    0           block12_sepconv1_bn[0][0]        \n",
            "__________________________________________________________________________________________________\n",
            "block12_sepconv2 (SeparableConv (None, 9, 9, 728)    536536      block12_sepconv2_act[0][0]       \n",
            "__________________________________________________________________________________________________\n",
            "block12_sepconv2_bn (BatchNorma (None, 9, 9, 728)    2912        block12_sepconv2[0][0]           \n",
            "__________________________________________________________________________________________________\n",
            "block12_sepconv3_act (Activatio (None, 9, 9, 728)    0           block12_sepconv2_bn[0][0]        \n",
            "__________________________________________________________________________________________________\n",
            "block12_sepconv3 (SeparableConv (None, 9, 9, 728)    536536      block12_sepconv3_act[0][0]       \n",
            "__________________________________________________________________________________________________\n",
            "block12_sepconv3_bn (BatchNorma (None, 9, 9, 728)    2912        block12_sepconv3[0][0]           \n",
            "__________________________________________________________________________________________________\n",
            "add_11 (Add)                    (None, 9, 9, 728)    0           block12_sepconv3_bn[0][0]        \n",
            "                                                                 add_10[0][0]                     \n",
            "__________________________________________________________________________________________________\n",
            "block13_sepconv1_act (Activatio (None, 9, 9, 728)    0           add_11[0][0]                     \n",
            "__________________________________________________________________________________________________\n",
            "block13_sepconv1 (SeparableConv (None, 9, 9, 728)    536536      block13_sepconv1_act[0][0]       \n",
            "__________________________________________________________________________________________________\n",
            "block13_sepconv1_bn (BatchNorma (None, 9, 9, 728)    2912        block13_sepconv1[0][0]           \n",
            "__________________________________________________________________________________________________\n",
            "block13_sepconv2_act (Activatio (None, 9, 9, 728)    0           block13_sepconv1_bn[0][0]        \n",
            "__________________________________________________________________________________________________\n",
            "block13_sepconv2 (SeparableConv (None, 9, 9, 1024)   752024      block13_sepconv2_act[0][0]       \n",
            "__________________________________________________________________________________________________\n",
            "block13_sepconv2_bn (BatchNorma (None, 9, 9, 1024)   4096        block13_sepconv2[0][0]           \n",
            "__________________________________________________________________________________________________\n",
            "conv2d_4 (Conv2D)               (None, 5, 5, 1024)   745472      add_11[0][0]                     \n",
            "__________________________________________________________________________________________________\n",
            "block13_pool (MaxPooling2D)     (None, 5, 5, 1024)   0           block13_sepconv2_bn[0][0]        \n",
            "__________________________________________________________________________________________________\n",
            "batch_normalization_4 (BatchNor (None, 5, 5, 1024)   4096        conv2d_4[0][0]                   \n",
            "__________________________________________________________________________________________________\n",
            "add_12 (Add)                    (None, 5, 5, 1024)   0           block13_pool[0][0]               \n",
            "                                                                 batch_normalization_4[0][0]      \n",
            "__________________________________________________________________________________________________\n",
            "block14_sepconv1 (SeparableConv (None, 5, 5, 1536)   1582080     add_12[0][0]                     \n",
            "__________________________________________________________________________________________________\n",
            "block14_sepconv1_bn (BatchNorma (None, 5, 5, 1536)   6144        block14_sepconv1[0][0]           \n",
            "__________________________________________________________________________________________________\n",
            "block14_sepconv1_act (Activatio (None, 5, 5, 1536)   0           block14_sepconv1_bn[0][0]        \n",
            "__________________________________________________________________________________________________\n",
            "block14_sepconv2 (SeparableConv (None, 5, 5, 2048)   3159552     block14_sepconv1_act[0][0]       \n",
            "__________________________________________________________________________________________________\n",
            "block14_sepconv2_bn (BatchNorma (None, 5, 5, 2048)   8192        block14_sepconv2[0][0]           \n",
            "__________________________________________________________________________________________________\n",
            "block14_sepconv2_act (Activatio (None, 5, 5, 2048)   0           block14_sepconv2_bn[0][0]        \n",
            "==================================================================================================\n",
            "Total params: 20,861,480\n",
            "Trainable params: 20,806,952\n",
            "Non-trainable params: 54,528\n",
            "__________________________________________________________________________________________________\n"
          ],
          "name": "stdout"
        }
      ]
    },
    {
      "cell_type": "markdown",
      "metadata": {
        "id": "f4HrOFW4HslM",
        "colab_type": "text"
      },
      "source": [
        "# Freeze the Pretrained Base"
      ]
    },
    {
      "cell_type": "code",
      "metadata": {
        "id": "EVcr5a-g_TrW",
        "colab_type": "code",
        "colab": {}
      },
      "source": [
        "conv_base.trainable = False"
      ],
      "execution_count": 0,
      "outputs": []
    },
    {
      "cell_type": "markdown",
      "metadata": {
        "id": "hAII68tDH4GR",
        "colab_type": "text"
      },
      "source": [
        "# Add Custom Classifier to Pretrained Base"
      ]
    },
    {
      "cell_type": "code",
      "metadata": {
        "id": "Wxz-VpiKFoi-",
        "colab_type": "code",
        "colab": {}
      },
      "source": [
        "from keras import layers\n",
        "from keras import models\n",
        "from keras import optimizers\n",
        "\n",
        "model = models.Sequential()\n",
        "# conv_base\n",
        "model.add(conv_base)\n",
        "# Classifier\n",
        "model.add(layers.Flatten())\n",
        "model.add(layers.Dense(200, activation='softmax'))\n",
        "#model.add(layers.Dropout(0.1))\n",
        "model.add(layers.Dense(1, activation='sigmoid'))"
      ],
      "execution_count": 0,
      "outputs": []
    },
    {
      "cell_type": "markdown",
      "metadata": {
        "id": "mMBNJnSqIBZP",
        "colab_type": "text"
      },
      "source": [
        "# Augment Dataset, Compile and Train Model"
      ]
    },
    {
      "cell_type": "code",
      "metadata": {
        "id": "nS-dP5WfFoay",
        "colab_type": "code",
        "outputId": "a703052b-e172-493f-ba67-f93ded71ca47",
        "colab": {
          "base_uri": "https://localhost:8080/",
          "height": 1000
        }
      },
      "source": [
        "from keras.preprocessing.image import ImageDataGenerator\n",
        "from keras import optimizers\n",
        "\n",
        "# data augmentation\n",
        "\n",
        "train_datagen = ImageDataGenerator(\n",
        "    rescale=1./255, \n",
        "    rotation_range=40,\n",
        "    width_shift_range=0.2,\n",
        "    height_shift_range=0.2,\n",
        "    shear_range=0.2,\n",
        "    zoom_range=0.2,\n",
        "    horizontal_flip=True,\n",
        "    fill_mode='nearest'\n",
        ")\n",
        "\n",
        "train_generator = train_datagen.flow_from_directory(\n",
        "    train_dir,\n",
        "    target_size=(150, 150),\n",
        "    batch_size=20,\n",
        "    class_mode='binary')\n",
        "\n",
        "validation_datagen = ImageDataGenerator(rescale=1./255)\n",
        "\n",
        "validation_generator = validation_datagen.flow_from_directory(\n",
        "    validation_dir,\n",
        "    target_size=(150, 150),\n",
        "    batch_size=32,\n",
        "    class_mode='binary')\n",
        "\n",
        "# compile model\n",
        "\n",
        "model.compile(\n",
        "    loss='binary_crossentropy', \n",
        "    optimizer=optimizers.RMSprop(lr=2e-5), \n",
        "    metrics=['acc'])\n",
        "\n",
        "# train\n",
        "\n",
        "history = model.fit_generator(\n",
        "    train_generator,\n",
        "    steps_per_epoch=100,\n",
        "    epochs=50,\n",
        "    validation_data=validation_generator,\n",
        "    validation_steps=64\n",
        ")"
      ],
      "execution_count": 7,
      "outputs": [
        {
          "output_type": "stream",
          "text": [
            "Found 2000 images belonging to 2 classes.\n",
            "Found 1000 images belonging to 2 classes.\n",
            "Epoch 1/50\n",
            "100/100 [==============================] - 34s 337ms/step - loss: 0.6752 - acc: 0.7430 - val_loss: 0.6201 - val_acc: 0.9520\n",
            "Epoch 2/50\n",
            "100/100 [==============================] - 24s 236ms/step - loss: 0.6566 - acc: 0.8150 - val_loss: 0.6124 - val_acc: 0.9290\n",
            "Epoch 3/50\n",
            "100/100 [==============================] - 24s 238ms/step - loss: 0.6505 - acc: 0.8180 - val_loss: 0.6266 - val_acc: 0.9510\n",
            "Epoch 4/50\n",
            "100/100 [==============================] - 24s 237ms/step - loss: 0.6469 - acc: 0.8370 - val_loss: 0.6091 - val_acc: 0.9620\n",
            "Epoch 5/50\n",
            "100/100 [==============================] - 24s 238ms/step - loss: 0.6449 - acc: 0.8365 - val_loss: 0.6184 - val_acc: 0.9640\n",
            "Epoch 6/50\n",
            "100/100 [==============================] - 24s 237ms/step - loss: 0.6441 - acc: 0.8415 - val_loss: 0.6112 - val_acc: 0.9580\n",
            "Epoch 7/50\n",
            "100/100 [==============================] - 24s 239ms/step - loss: 0.6415 - acc: 0.8395 - val_loss: 0.6160 - val_acc: 0.9650\n",
            "Epoch 8/50\n",
            "100/100 [==============================] - 24s 239ms/step - loss: 0.6397 - acc: 0.8480 - val_loss: 0.6058 - val_acc: 0.9680\n",
            "Epoch 9/50\n",
            "100/100 [==============================] - 24s 240ms/step - loss: 0.6378 - acc: 0.8625 - val_loss: 0.6039 - val_acc: 0.9660\n",
            "Epoch 10/50\n",
            "100/100 [==============================] - 24s 238ms/step - loss: 0.6377 - acc: 0.8480 - val_loss: 0.6112 - val_acc: 0.9650\n",
            "Epoch 11/50\n",
            "100/100 [==============================] - 24s 240ms/step - loss: 0.6353 - acc: 0.8650 - val_loss: 0.6026 - val_acc: 0.9650\n",
            "Epoch 12/50\n",
            "100/100 [==============================] - 23s 232ms/step - loss: 0.6352 - acc: 0.8600 - val_loss: 0.6042 - val_acc: 0.9650\n",
            "Epoch 13/50\n",
            "100/100 [==============================] - 24s 236ms/step - loss: 0.6346 - acc: 0.8585 - val_loss: 0.6002 - val_acc: 0.9640\n",
            "Epoch 14/50\n",
            "100/100 [==============================] - 24s 236ms/step - loss: 0.6325 - acc: 0.8675 - val_loss: 0.6000 - val_acc: 0.9650\n",
            "Epoch 15/50\n",
            "100/100 [==============================] - 24s 235ms/step - loss: 0.6329 - acc: 0.8530 - val_loss: 0.6063 - val_acc: 0.9660\n",
            "Epoch 16/50\n",
            "100/100 [==============================] - 24s 238ms/step - loss: 0.6314 - acc: 0.8625 - val_loss: 0.6196 - val_acc: 0.9680\n",
            "Epoch 17/50\n",
            "100/100 [==============================] - 24s 239ms/step - loss: 0.6298 - acc: 0.8695 - val_loss: 0.5968 - val_acc: 0.9680\n",
            "Epoch 18/50\n",
            "100/100 [==============================] - 24s 239ms/step - loss: 0.6298 - acc: 0.8575 - val_loss: 0.6196 - val_acc: 0.9680\n",
            "Epoch 19/50\n",
            "100/100 [==============================] - 24s 238ms/step - loss: 0.6284 - acc: 0.8670 - val_loss: 0.5950 - val_acc: 0.9670\n",
            "Epoch 20/50\n",
            "100/100 [==============================] - 24s 237ms/step - loss: 0.6288 - acc: 0.8580 - val_loss: 0.6199 - val_acc: 0.9670\n",
            "Epoch 21/50\n",
            "100/100 [==============================] - 24s 238ms/step - loss: 0.6275 - acc: 0.8610 - val_loss: 0.5948 - val_acc: 0.9670\n",
            "Epoch 22/50\n",
            "100/100 [==============================] - 24s 236ms/step - loss: 0.6281 - acc: 0.8535 - val_loss: 0.5924 - val_acc: 0.9720\n",
            "Epoch 23/50\n",
            "100/100 [==============================] - 24s 237ms/step - loss: 0.6281 - acc: 0.8570 - val_loss: 0.5918 - val_acc: 0.9700\n",
            "Epoch 24/50\n",
            "100/100 [==============================] - 24s 238ms/step - loss: 0.6256 - acc: 0.8590 - val_loss: 0.6133 - val_acc: 0.9660\n",
            "Epoch 25/50\n",
            "100/100 [==============================] - 24s 238ms/step - loss: 0.6238 - acc: 0.8715 - val_loss: 0.5904 - val_acc: 0.9690\n",
            "Epoch 26/50\n",
            "100/100 [==============================] - 24s 238ms/step - loss: 0.6234 - acc: 0.8720 - val_loss: 0.6352 - val_acc: 0.9630\n",
            "Epoch 27/50\n",
            "100/100 [==============================] - 24s 238ms/step - loss: 0.6234 - acc: 0.8660 - val_loss: 0.5904 - val_acc: 0.9690\n",
            "Epoch 28/50\n",
            "100/100 [==============================] - 24s 238ms/step - loss: 0.6199 - acc: 0.8835 - val_loss: 0.5881 - val_acc: 0.9710\n",
            "Epoch 29/50\n",
            "100/100 [==============================] - 24s 239ms/step - loss: 0.6212 - acc: 0.8720 - val_loss: 0.6031 - val_acc: 0.9680\n",
            "Epoch 30/50\n",
            "100/100 [==============================] - 24s 238ms/step - loss: 0.6207 - acc: 0.8685 - val_loss: 0.6003 - val_acc: 0.9680\n",
            "Epoch 31/50\n",
            "100/100 [==============================] - 24s 237ms/step - loss: 0.6202 - acc: 0.8665 - val_loss: 0.5856 - val_acc: 0.9730\n",
            "Epoch 32/50\n",
            "100/100 [==============================] - 24s 236ms/step - loss: 0.6177 - acc: 0.8795 - val_loss: 0.5966 - val_acc: 0.9720\n",
            "Epoch 33/50\n",
            "100/100 [==============================] - 24s 238ms/step - loss: 0.6195 - acc: 0.8665 - val_loss: 0.5995 - val_acc: 0.9710\n",
            "Epoch 34/50\n",
            "100/100 [==============================] - 24s 238ms/step - loss: 0.6170 - acc: 0.8740 - val_loss: 0.6010 - val_acc: 0.9720\n",
            "Epoch 35/50\n",
            "100/100 [==============================] - 24s 237ms/step - loss: 0.6156 - acc: 0.8750 - val_loss: 0.5828 - val_acc: 0.9710\n",
            "Epoch 36/50\n",
            "100/100 [==============================] - 24s 236ms/step - loss: 0.6172 - acc: 0.8630 - val_loss: 0.5814 - val_acc: 0.9750\n",
            "Epoch 37/50\n",
            "100/100 [==============================] - 24s 238ms/step - loss: 0.6185 - acc: 0.8510 - val_loss: 0.5804 - val_acc: 0.9730\n",
            "Epoch 38/50\n",
            "100/100 [==============================] - 24s 236ms/step - loss: 0.6155 - acc: 0.8695 - val_loss: 0.5992 - val_acc: 0.9720\n",
            "Epoch 39/50\n",
            "100/100 [==============================] - 24s 236ms/step - loss: 0.6149 - acc: 0.8660 - val_loss: 0.5788 - val_acc: 0.9680\n",
            "Epoch 40/50\n",
            "100/100 [==============================] - 24s 235ms/step - loss: 0.6132 - acc: 0.8765 - val_loss: 0.6050 - val_acc: 0.9730\n",
            "Epoch 41/50\n",
            "100/100 [==============================] - 23s 235ms/step - loss: 0.6128 - acc: 0.8730 - val_loss: 0.5792 - val_acc: 0.9720\n",
            "Epoch 42/50\n",
            "100/100 [==============================] - 23s 234ms/step - loss: 0.6118 - acc: 0.8765 - val_loss: 0.5761 - val_acc: 0.9690\n",
            "Epoch 43/50\n",
            "100/100 [==============================] - 24s 236ms/step - loss: 0.6128 - acc: 0.8675 - val_loss: 0.6069 - val_acc: 0.9680\n",
            "Epoch 44/50\n",
            "100/100 [==============================] - 23s 235ms/step - loss: 0.6112 - acc: 0.8775 - val_loss: 0.5749 - val_acc: 0.9690\n",
            "Epoch 45/50\n",
            "100/100 [==============================] - 24s 235ms/step - loss: 0.6121 - acc: 0.8660 - val_loss: 0.5735 - val_acc: 0.9680\n",
            "Epoch 46/50\n",
            "100/100 [==============================] - 24s 235ms/step - loss: 0.6111 - acc: 0.8715 - val_loss: 0.5731 - val_acc: 0.9740\n",
            "Epoch 47/50\n",
            "100/100 [==============================] - 24s 239ms/step - loss: 0.6080 - acc: 0.8745 - val_loss: 0.5723 - val_acc: 0.9730\n",
            "Epoch 48/50\n",
            "100/100 [==============================] - 24s 237ms/step - loss: 0.6070 - acc: 0.8725 - val_loss: 0.5712 - val_acc: 0.9730\n",
            "Epoch 49/50\n",
            "100/100 [==============================] - 24s 237ms/step - loss: 0.6096 - acc: 0.8650 - val_loss: 0.5711 - val_acc: 0.9720\n",
            "Epoch 50/50\n",
            "100/100 [==============================] - 23s 234ms/step - loss: 0.6080 - acc: 0.8675 - val_loss: 0.5698 - val_acc: 0.9730\n"
          ],
          "name": "stdout"
        }
      ]
    },
    {
      "cell_type": "markdown",
      "metadata": {
        "id": "LLJOhLsQIGzI",
        "colab_type": "text"
      },
      "source": [
        "# Plot Loss and Accuracy"
      ]
    },
    {
      "cell_type": "code",
      "metadata": {
        "id": "LZECPefAFoS6",
        "colab_type": "code",
        "colab": {
          "base_uri": "https://localhost:8080/",
          "height": 544
        },
        "outputId": "730d29fc-cb22-48d5-d6ee-0c36d39d4f6d"
      },
      "source": [
        "%matplotlib inline\n",
        "\n",
        "import matplotlib.pyplot as plt\n",
        "\n",
        "acc = history.history['acc']\n",
        "val_acc = history.history['val_acc']\n",
        "\n",
        "loss = history.history['loss']\n",
        "val_loss = history.history['val_loss']\n",
        "\n",
        "epochs = range(1, len(acc) + 1)\n",
        "\n",
        "# training and validation accuracy\n",
        "\n",
        "plt.plot(epochs, acc, 'bo', label='training acc')\n",
        "plt.plot(epochs, val_acc, 'b', label='validation acc')\n",
        "plt.title('training and validation accuracy')\n",
        "plt.legend()\n",
        "plt.grid()\n",
        "plt.figure()\n",
        "\n",
        "# training and validation loss\n",
        "plt.plot(epochs, loss, 'bo', label='training loss')\n",
        "plt.plot(epochs, val_loss, 'b', label='validation loss')\n",
        "plt.title('training and validation loss')\n",
        "plt.legend()\n",
        "plt.grid()\n",
        "plt.show()"
      ],
      "execution_count": 8,
      "outputs": [
        {
          "output_type": "display_data",
          "data": {
            "image/png": "[encoded data removed]",
            "text/plain": [
              "<Figure size 432x288 with 1 Axes>"
            ]
          },
          "metadata": {
            "tags": [],
            "needs_background": "light"
          }
        },
        {
          "output_type": "display_data",
          "data": {
            "image/png": "[encoded data removed]",
            "text/plain": [
              "<Figure size 432x288 with 1 Axes>"
            ]
          },
          "metadata": {
            "tags": [],
            "needs_background": "light"
          }
        }
      ]
    },
    {
      "cell_type": "markdown",
      "metadata": {
        "id": "WAi8MXvfIhhM",
        "colab_type": "text"
      },
      "source": [
        "# Unfreeze last few layers in conv_base"
      ]
    },
    {
      "cell_type": "code",
      "metadata": {
        "id": "V3NIDlbG9tSN",
        "colab_type": "code",
        "colab": {}
      },
      "source": [
        "conv_base.trainable = True\n",
        "\n",
        "set_trainable = False\n",
        "for layer in conv_base.layers:\n",
        "  if layer.name == 'block5_conv1':\n",
        "    set_trainable = True\n",
        "  if set_trainable:\n",
        "    layer.trainable = True\n",
        "  else:\n",
        "    layer.trainable = False"
      ],
      "execution_count": 0,
      "outputs": []
    },
    {
      "cell_type": "markdown",
      "metadata": {
        "id": "Dp3xmhvgIY3i",
        "colab_type": "text"
      },
      "source": [
        "# Retrain Model after Finetuning"
      ]
    },
    {
      "cell_type": "code",
      "metadata": {
        "id": "4t0xcJvLIVTw",
        "colab_type": "code",
        "colab": {
          "base_uri": "https://localhost:8080/",
          "height": 1000
        },
        "outputId": "c531ae42-15d3-4e05-e90c-c408227deb58"
      },
      "source": [
        "# compile model\n",
        "\n",
        "model.compile(\n",
        "    loss='binary_crossentropy',\n",
        "    #\n",
        "    # choose a smaller learning rate\n",
        "    #\n",
        "    optimizer=optimizers.RMSprop(lr=1e-5), \n",
        "    metrics=['acc'])\n",
        "\n",
        "# train\n",
        "\n",
        "history = model.fit_generator(\n",
        "    train_generator,\n",
        "    steps_per_epoch=100,\n",
        "    epochs=50,\n",
        "    validation_data=validation_generator,\n",
        "    validation_steps=64)"
      ],
      "execution_count": 10,
      "outputs": [
        {
          "output_type": "stream",
          "text": [
            "Epoch 1/50\n",
            "100/100 [==============================] - 28s 278ms/step - loss: 0.6042 - acc: 0.8895 - val_loss: 0.5884 - val_acc: 0.9460\n",
            "Epoch 2/50\n",
            "100/100 [==============================] - 24s 237ms/step - loss: 0.6038 - acc: 0.8880 - val_loss: 0.5954 - val_acc: 0.9380\n",
            "Epoch 3/50\n",
            "100/100 [==============================] - 24s 236ms/step - loss: 0.6081 - acc: 0.8615 - val_loss: 0.5785 - val_acc: 0.9340\n",
            "Epoch 4/50\n",
            "100/100 [==============================] - 23s 234ms/step - loss: 0.6020 - acc: 0.8910 - val_loss: 0.5699 - val_acc: 0.9300\n",
            "Epoch 5/50\n",
            "100/100 [==============================] - 22s 224ms/step - loss: 0.6047 - acc: 0.8865 - val_loss: 0.6043 - val_acc: 0.9360\n",
            "Epoch 6/50\n",
            "100/100 [==============================] - 22s 221ms/step - loss: 0.6030 - acc: 0.8830 - val_loss: 0.5986 - val_acc: 0.9320\n",
            "Epoch 7/50\n",
            "100/100 [==============================] - 22s 224ms/step - loss: 0.6009 - acc: 0.8935 - val_loss: 0.5747 - val_acc: 0.9300\n",
            "Epoch 8/50\n",
            "100/100 [==============================] - 22s 224ms/step - loss: 0.6028 - acc: 0.8825 - val_loss: 0.5750 - val_acc: 0.9300\n",
            "Epoch 9/50\n",
            "100/100 [==============================] - 22s 223ms/step - loss: 0.6030 - acc: 0.8810 - val_loss: 0.5677 - val_acc: 0.9280\n",
            "Epoch 10/50\n",
            "100/100 [==============================] - 22s 221ms/step - loss: 0.6056 - acc: 0.8690 - val_loss: 0.5972 - val_acc: 0.9350\n",
            "Epoch 11/50\n",
            "100/100 [==============================] - 22s 220ms/step - loss: 0.6040 - acc: 0.8765 - val_loss: 0.6248 - val_acc: 0.9290\n",
            "Epoch 12/50\n",
            "100/100 [==============================] - 22s 218ms/step - loss: 0.6033 - acc: 0.8720 - val_loss: 0.5662 - val_acc: 0.9270\n",
            "Epoch 13/50\n",
            "100/100 [==============================] - 22s 219ms/step - loss: 0.6002 - acc: 0.8880 - val_loss: 0.6515 - val_acc: 0.9340\n",
            "Epoch 14/50\n",
            "100/100 [==============================] - 22s 220ms/step - loss: 0.6024 - acc: 0.8755 - val_loss: 0.5820 - val_acc: 0.9280\n",
            "Epoch 15/50\n",
            "100/100 [==============================] - 22s 219ms/step - loss: 0.6008 - acc: 0.8810 - val_loss: 0.5685 - val_acc: 0.9290\n",
            "Epoch 16/50\n",
            "100/100 [==============================] - 22s 217ms/step - loss: 0.6035 - acc: 0.8740 - val_loss: 0.5644 - val_acc: 0.9370\n",
            "Epoch 17/50\n",
            "100/100 [==============================] - 22s 219ms/step - loss: 0.6018 - acc: 0.8765 - val_loss: 0.5662 - val_acc: 0.9330\n",
            "Epoch 18/50\n",
            "100/100 [==============================] - 22s 218ms/step - loss: 0.6030 - acc: 0.8735 - val_loss: 0.6153 - val_acc: 0.9300\n",
            "Epoch 19/50\n",
            "100/100 [==============================] - 22s 217ms/step - loss: 0.5998 - acc: 0.8800 - val_loss: 0.5739 - val_acc: 0.9360\n",
            "Epoch 20/50\n",
            "100/100 [==============================] - 22s 220ms/step - loss: 0.6008 - acc: 0.8765 - val_loss: 0.5649 - val_acc: 0.9260\n",
            "Epoch 21/50\n",
            "100/100 [==============================] - 22s 218ms/step - loss: 0.5986 - acc: 0.8855 - val_loss: 0.5615 - val_acc: 0.9280\n",
            "Epoch 22/50\n",
            "100/100 [==============================] - 22s 219ms/step - loss: 0.5996 - acc: 0.8760 - val_loss: 0.5768 - val_acc: 0.9280\n",
            "Epoch 23/50\n",
            "100/100 [==============================] - 22s 218ms/step - loss: 0.6011 - acc: 0.8655 - val_loss: 0.5613 - val_acc: 0.9300\n",
            "Epoch 24/50\n",
            "100/100 [==============================] - 22s 221ms/step - loss: 0.5998 - acc: 0.8750 - val_loss: 0.5966 - val_acc: 0.9310\n",
            "Epoch 25/50\n",
            "100/100 [==============================] - 22s 219ms/step - loss: 0.5967 - acc: 0.8890 - val_loss: 0.5815 - val_acc: 0.9260\n",
            "Epoch 26/50\n",
            "100/100 [==============================] - 22s 219ms/step - loss: 0.5998 - acc: 0.8705 - val_loss: 0.5697 - val_acc: 0.9280\n",
            "Epoch 27/50\n",
            "100/100 [==============================] - 22s 218ms/step - loss: 0.5966 - acc: 0.8820 - val_loss: 0.5662 - val_acc: 0.9310\n",
            "Epoch 28/50\n",
            "100/100 [==============================] - 22s 217ms/step - loss: 0.5951 - acc: 0.8875 - val_loss: 0.5861 - val_acc: 0.9280\n",
            "Epoch 29/50\n",
            "100/100 [==============================] - 22s 219ms/step - loss: 0.5971 - acc: 0.8770 - val_loss: 0.6410 - val_acc: 0.9270\n",
            "Epoch 30/50\n",
            "100/100 [==============================] - 22s 220ms/step - loss: 0.5960 - acc: 0.8875 - val_loss: 0.5853 - val_acc: 0.9350\n",
            "Epoch 31/50\n",
            "100/100 [==============================] - 22s 221ms/step - loss: 0.5965 - acc: 0.8800 - val_loss: 0.5877 - val_acc: 0.9300\n",
            "Epoch 32/50\n",
            "100/100 [==============================] - 22s 218ms/step - loss: 0.5952 - acc: 0.8820 - val_loss: 0.5603 - val_acc: 0.9290\n",
            "Epoch 33/50\n",
            "100/100 [==============================] - 22s 216ms/step - loss: 0.5945 - acc: 0.8855 - val_loss: 0.5887 - val_acc: 0.9270\n",
            "Epoch 34/50\n",
            "100/100 [==============================] - 22s 217ms/step - loss: 0.5965 - acc: 0.8740 - val_loss: 0.5681 - val_acc: 0.9320\n",
            "Epoch 35/50\n",
            "100/100 [==============================] - 22s 216ms/step - loss: 0.5944 - acc: 0.8840 - val_loss: 0.5922 - val_acc: 0.9250\n",
            "Epoch 36/50\n",
            "100/100 [==============================] - 22s 217ms/step - loss: 0.5944 - acc: 0.8860 - val_loss: 0.5856 - val_acc: 0.9290\n",
            "Epoch 37/50\n",
            "100/100 [==============================] - 22s 218ms/step - loss: 0.5964 - acc: 0.8780 - val_loss: 0.5588 - val_acc: 0.9290\n",
            "Epoch 38/50\n",
            "100/100 [==============================] - 22s 217ms/step - loss: 0.5935 - acc: 0.8775 - val_loss: 0.5757 - val_acc: 0.9320\n",
            "Epoch 39/50\n",
            "100/100 [==============================] - 22s 216ms/step - loss: 0.5924 - acc: 0.8815 - val_loss: 0.5875 - val_acc: 0.9350\n",
            "Epoch 40/50\n",
            "100/100 [==============================] - 21s 214ms/step - loss: 0.5943 - acc: 0.8800 - val_loss: 0.5594 - val_acc: 0.9310\n",
            "Epoch 41/50\n",
            "100/100 [==============================] - 21s 209ms/step - loss: 0.5920 - acc: 0.8880 - val_loss: 0.5636 - val_acc: 0.9380\n",
            "Epoch 42/50\n",
            "100/100 [==============================] - 21s 208ms/step - loss: 0.5918 - acc: 0.8885 - val_loss: 0.5583 - val_acc: 0.9280\n",
            "Epoch 43/50\n",
            "100/100 [==============================] - 21s 206ms/step - loss: 0.5924 - acc: 0.8845 - val_loss: 0.5628 - val_acc: 0.9360\n",
            "Epoch 44/50\n",
            "100/100 [==============================] - 21s 209ms/step - loss: 0.5944 - acc: 0.8755 - val_loss: 0.5768 - val_acc: 0.9350\n",
            "Epoch 45/50\n",
            "100/100 [==============================] - 21s 207ms/step - loss: 0.5938 - acc: 0.8745 - val_loss: 0.5540 - val_acc: 0.9280\n",
            "Epoch 46/50\n",
            "100/100 [==============================] - 21s 207ms/step - loss: 0.5922 - acc: 0.8765 - val_loss: 0.5582 - val_acc: 0.9340\n",
            "Epoch 47/50\n",
            "100/100 [==============================] - 21s 209ms/step - loss: 0.5929 - acc: 0.8780 - val_loss: 0.5799 - val_acc: 0.9350\n",
            "Epoch 48/50\n",
            "100/100 [==============================] - 21s 207ms/step - loss: 0.5909 - acc: 0.8770 - val_loss: 0.5586 - val_acc: 0.9290\n",
            "Epoch 49/50\n",
            "100/100 [==============================] - 20s 205ms/step - loss: 0.5887 - acc: 0.8880 - val_loss: 0.5850 - val_acc: 0.9330\n",
            "Epoch 50/50\n",
            "100/100 [==============================] - 20s 203ms/step - loss: 0.5934 - acc: 0.8720 - val_loss: 0.5904 - val_acc: 0.9340\n"
          ],
          "name": "stdout"
        }
      ]
    },
    {
      "cell_type": "markdown",
      "metadata": {
        "id": "fQD74tcFI1HH",
        "colab_type": "text"
      },
      "source": [
        "# Plot Loss and Accuracy after Finetuning"
      ]
    },
    {
      "cell_type": "code",
      "metadata": {
        "id": "e7qgHQELIU-5",
        "colab_type": "code",
        "colab": {
          "base_uri": "https://localhost:8080/",
          "height": 544
        },
        "outputId": "5af6a363-c9ef-44dd-bf4b-3b8cec903feb"
      },
      "source": [
        "%matplotlib inline\n",
        "\n",
        "import matplotlib.pyplot as plt\n",
        "\n",
        "acc = history.history['acc']\n",
        "val_acc = history.history['val_acc']\n",
        "\n",
        "loss = history.history['loss']\n",
        "val_loss = history.history['val_loss']\n",
        "\n",
        "epochs = range(1, len(acc) + 1)\n",
        "\n",
        "# training and validation accuracy\n",
        "\n",
        "plt.plot(epochs, acc, 'bo', label='training acc')\n",
        "plt.plot(epochs, val_acc, 'b', label='validation acc')\n",
        "plt.title('training and validation accuracy')\n",
        "plt.legend()\n",
        "\n",
        "plt.figure()\n",
        "\n",
        "# training and validation loss\n",
        "\n",
        "plt.plot(epochs, loss, 'ro', label='training loss')\n",
        "plt.plot(epochs, val_loss, 'r', label='validation loss')\n",
        "plt.title('training and validation loss')\n",
        "plt.legend()\n",
        "\n",
        "plt.show()"
      ],
      "execution_count": 11,
      "outputs": [
        {
          "output_type": "display_data",
          "data": {
            "image/png": "[encoded data removed]",
            "text/plain": [
              "<Figure size 432x288 with 1 Axes>"
            ]
          },
          "metadata": {
            "tags": [],
            "needs_background": "light"
          }
        },
        {
          "output_type": "display_data",
          "data": {
            "image/png": "[encoded data removed]",
            "text/plain": [
              "<Figure size 432x288 with 1 Axes>"
            ]
          },
          "metadata": {
            "tags": [],
            "needs_background": "light"
          }
        }
      ]
    },
    {
      "cell_type": "markdown",
      "metadata": {
        "id": "iJT26zQVI8hj",
        "colab_type": "text"
      },
      "source": [
        "# Print Accuracy and Loss"
      ]
    },
    {
      "cell_type": "code",
      "metadata": {
        "id": "zlUfTbkTIU7s",
        "colab_type": "code",
        "colab": {
          "base_uri": "https://localhost:8080/",
          "height": 52
        },
        "outputId": "00308265-6b7f-423f-94a5-14adbc3ad8c1"
      },
      "source": [
        "val_loss, val_acc = model.evaluate_generator(validation_generator, steps=50)\n",
        "print(\"Validation loss:\", val_loss)\n",
        "print(\"Validation accuracy:\", val_acc)"
      ],
      "execution_count": 12,
      "outputs": [
        {
          "output_type": "stream",
          "text": [
            "Validation loss: 0.5986533164978027\n",
            "Validation accuracy: 0.9352791905403137\n"
          ],
          "name": "stdout"
        }
      ]
    },
    {
      "cell_type": "markdown",
      "metadata": {
        "id": "zh16GdOrJAvz",
        "colab_type": "text"
      },
      "source": [
        "# Save Pretrained Model"
      ]
    },
    {
      "cell_type": "code",
      "metadata": {
        "id": "s9XLRd5VSunh",
        "colab_type": "code",
        "colab": {}
      },
      "source": [
        "model_fname = 'cats_and_dogs_small_4.h5' \n",
        "model.save(model_fname)"
      ],
      "execution_count": 0,
      "outputs": []
    },
    {
      "cell_type": "code",
      "metadata": {
        "id": "vFsIKF3LI7wN",
        "colab_type": "code",
        "colab": {
          "base_uri": "https://localhost:8080/",
          "height": 461
        },
        "outputId": "1b16152d-253c-49d6-d967-d55fbd9de761"
      },
      "source": [
        "from google.colab import files\n",
        "\n",
        "\n",
        "with open(model_fname, 'r') as f:\n",
        "  files.download(model_fname)"
      ],
      "execution_count": 15,
      "outputs": [
        {
          "output_type": "stream",
          "text": [
            "----------------------------------------\n",
            "Exception happened during processing of request from ('::ffff:127.0.0.1', 53336, 0, 0)\n",
            "Traceback (most recent call last):\n",
            "  File \"/usr/lib/python3.6/socketserver.py\", line 320, in _handle_request_noblock\n",
            "    self.process_request(request, client_address)\n",
            "  File \"/usr/lib/python3.6/socketserver.py\", line 351, in process_request\n",
            "    self.finish_request(request, client_address)\n",
            "  File \"/usr/lib/python3.6/socketserver.py\", line 364, in finish_request\n",
            "    self.RequestHandlerClass(request, client_address, self)\n",
            "  File \"/usr/lib/python3.6/socketserver.py\", line 724, in __init__\n",
            "    self.handle()\n",
            "  File \"/usr/lib/python3.6/http/server.py\", line 418, in handle\n",
            "    self.handle_one_request()\n",
            "  File \"/usr/lib/python3.6/http/server.py\", line 406, in handle_one_request\n",
            "    method()\n",
            "  File \"/usr/lib/python3.6/http/server.py\", line 639, in do_GET\n",
            "    self.copyfile(f, self.wfile)\n",
            "  File \"/usr/lib/python3.6/http/server.py\", line 800, in copyfile\n",
            "    shutil.copyfileobj(source, outputfile)\n",
            "  File \"/usr/lib/python3.6/shutil.py\", line 82, in copyfileobj\n",
            "    fdst.write(buf)\n",
            "  File \"/usr/lib/python3.6/socketserver.py\", line 803, in write\n",
            "    self._sock.sendall(b)\n",
            "ConnectionResetError: [Errno 104] Connection reset by peer\n",
            "----------------------------------------\n"
          ],
          "name": "stderr"
        }
      ]
    }
  ]
}
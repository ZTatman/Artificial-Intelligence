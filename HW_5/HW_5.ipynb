{
  "nbformat": 4,
  "nbformat_minor": 0,
  "metadata": {
    "colab": {
      "name": "HW_5.ipynb",
      "provenance": [],
      "collapsed_sections": [
        "0zUT9nVCN7Zw",
        "99qp9-qFsjzs",
        "4TpvFHH7rzcs",
        "u23FHkDKuAm1"
      ],
      "machine_shape": "hm",
      "authorship_tag": "ABX9TyOIN/u2xlLslPCnzXAPGrdr",
      "include_colab_link": true
    },
    "kernelspec": {
      "name": "python3",
      "display_name": "Python 3"
    },
    "accelerator": "GPU"
  },
  "cells": [
    {
      "cell_type": "markdown",
      "metadata": {
        "id": "view-in-github",
        "colab_type": "text"
      },
      "source": [
        "<a href=\"https://colab.research.google.com/github/ZTatman/Artificial-Intelligence/blob/master/HW_5/HW_5.ipynb\" target=\"_parent\"><img src=\"https://colab.research.google.com/assets/colab-badge.svg\" alt=\"Open In Colab\"/></a>"
      ]
    },
    {
      "cell_type": "markdown",
      "metadata": {
        "id": "x37Ll3Hwrzst",
        "colab_type": "text"
      },
      "source": [
        "## 1. General Concepts"
      ]
    },
    {
      "cell_type": "markdown",
      "metadata": {
        "id": "SXEOd2Xhsh3q",
        "colab_type": "text"
      },
      "source": [
        "#### **What I Learned**\n",
        "\n"
      ]
    },
    {
      "cell_type": "markdown",
      "metadata": {
        "id": "wHhGw5MRtm8S",
        "colab_type": "text"
      },
      "source": [
        "**Python 3**  \n",
        "  \n",
        "> Before enrolling in CAP4630, I had not programmed in Python at all.  \n",
        "I heard that Python was very efficient, easy to read, and fun to learn.  \n",
        "I wanted to learn how to program in python and CAP4630 gave me the   \n",
        "chance to not only learn the basics of programming in python 3, but also  \n",
        "the ability to apply newly learned knowledge to interesting Machine Learning problems.\n",
        "\n"
      ]
    },
    {
      "cell_type": "code",
      "metadata": {
        "id": "nV70m6MBsiW4",
        "colab_type": "code",
        "outputId": "66bb3909-2ad0-4ed3-9c8b-19c536ec11f2",
        "colab": {
          "base_uri": "https://localhost:8080/",
          "height": 35
        }
      },
      "source": [
        "import numpy as np\n",
        "# lists \n",
        "li = ['a', 'b', 1, True]\n",
        "# numpy arrays\n",
        "arr = np.array([[1, 2, 3, 4, 5, 6]])\n",
        "# indexing numpy array 2 - 4\n",
        "li = li[1:4]\n",
        "# for loops\n",
        "for el in li:\n",
        "  print(f'{el} ', end=\"\")\n",
        "print(\"\")"
      ],
      "execution_count": 23,
      "outputs": [
        {
          "output_type": "stream",
          "text": [
            "b 1 True \n"
          ],
          "name": "stdout"
        }
      ]
    },
    {
      "cell_type": "markdown",
      "metadata": {
        "id": "1VGZBo74wWQ5",
        "colab_type": "text"
      },
      "source": [
        "**The Distinctions Between Artificial Intelligence, Machine Learning, and Deep Learning**  \n",
        "  \n",
        ">**Artificial Intelligence**  \n",
        "  \n",
        "  >> When people think of Artificial Intelligence (AI), they often think about self-driving cars, super smart robots, drones, and even Amazon's home assistant Alexa. The subject of AI is often mystified and seen as a black box. However, AI is really just a general field of study that envelopes other fields and learning techniques such as Machine Learning and Deep Learning. \n",
        "  \n",
        ">**Machine Learning**  \n",
        "  \n",
        "  >> Machine Learning is one those distinct fields in the AI umbrella. My favorite description of the concept of Machine Learning comes from a quote in Francois Chollet's book *Deep Learning with Python*.  \n",
        "  \"**could a computer go beyond what know how to order it to perform and learn  \n",
        "   on its own how to perform a specified task?...Rather than programming   \n",
        "   data-processing rules by hand, could a computer automatically learn these   \n",
        "   rules by looking at data?**\"  \n",
        "   Essentially, ML is a technique where instead of giving a program the rules that should be followed and expecting it to output correct data and values, you switch the order of this logic. In a ML program you give the program some data and values in hopes that it will learn to recognize patterns in the data and create the rules of the program itself.\n",
        "\n",
        "  \n",
        ">**Deep Learning**  \n",
        "  \n",
        "  >> Deep Learning is also a subcategory of ML. In ML, given a set of data and some goal, you want to generate rules that align with patterns learned over the data. Deep learning is able to do this using a layered approach to processing data. Deep learning is an approach that generates many successive layers of representations of data its given. This is why its called \"Deep\" Learning. These many layers stack tp form what is called a model of data referred to as neural networks. "
      ]
    },
    {
      "cell_type": "markdown",
      "metadata": {
        "id": "lG7viwyurzoU",
        "colab_type": "text"
      },
      "source": [
        "## 2. Basic Concepts"
      ]
    },
    {
      "cell_type": "markdown",
      "metadata": {
        "id": "0zUT9nVCN7Zw",
        "colab_type": "text"
      },
      "source": [
        "##### Types of Regression"
      ]
    },
    {
      "cell_type": "markdown",
      "metadata": {
        "id": "78kXbbLhN7Mv",
        "colab_type": "text"
      },
      "source": [
        "**Regression** \n",
        "  \n",
        "  Regression is a method that models the relationship between a functions variables. "
      ]
    },
    {
      "cell_type": "markdown",
      "metadata": {
        "id": "q2lGWuh_OAe7",
        "colab_type": "text"
      },
      "source": [
        "**Linear Regression**  \n",
        "A*linear regression* is the modeling of the relationship between to variables. The relationship appears as a line when graphed.  \n",
        "The line represents the relationship between to variables (x, y) that depend on each other. The line is called a **line of best fit**.\n",
        "<br/>\n",
        "<br/>\n",
        "**Logistic Regression**  \n",
        "Logistic Regression is a little different from linear regression. Logistic regression is used when the expected output, $y$, is  \n",
        "categorized or when its value maps it to a distinct class. For instance, both dogs and cats have paws, ears, snouts, fur,  \n",
        "and tails. We can create a function, $f(x)$, that takes into these features as input ($x_1, x_2, ..., x_n$), and outputs a prediction that  \n",
        "determines what category is belongs to. There can be 2 classes, or, you may want to use logistic regression for predicting data into multiple classes based on the application.\n",
        "<br/>\n",
        "<br/>\n",
        "**Regression in Machine Learning**  \n",
        "Regression is very useful in ML. A regression model predicts continuous values. Given a dataset we can plot it using the equation of a line: **$y=mx+b$**. The variable $y$ is the expected output. With Linear regression we can create a predicted output, $\\hat{y}$. A predictions accuracy or score is measured by a Loss value. Lower loss will result with predictions of higher accuracy. This loss value is tweaked and managed within the process of gradient descent. There are also different ways of calculating loss for various situations.\n",
        " "
      ]
    },
    {
      "cell_type": "markdown",
      "metadata": {
        "id": "99qp9-qFsjzs",
        "colab_type": "text"
      },
      "source": [
        "#### Gradients and Gradient Descent\n",
        "  \n",
        "   "
      ]
    },
    {
      "cell_type": "markdown",
      "metadata": {
        "id": "dFoKiRAQNVn_",
        "colab_type": "text"
      },
      "source": [
        "**Gradient**   \n",
        "  \n",
        "  A gradient is the deriviative, or, rate of change of a function. It is a vector   \n",
        "  that points in the direction of the greatest increase of change of a function.  \n",
        "  **Ex**:  \n",
        "  $f(x) = x^2$  \n",
        "  $\\frac{d}{dx}f(x) = 2x$  \n",
        "  At the point x = 3,  the slope of $f(x) = 6$  "
      ]
    },
    {
      "cell_type": "markdown",
      "metadata": {
        "id": "ivksqoa9NVeu",
        "colab_type": "text"
      },
      "source": [
        "\n",
        "**Gradient Descent**  \n",
        "In machine learning, Gradient Descent is an algorithm that takes a function  \n",
        "and iteratively travels to the point in the function where the slope is 0. The   \n",
        "way I think of it is that gradient descent is a tool used to create a model that  \n",
        "best fits the given data useing incremental steps to reduce a calculated loss  \n",
        "and modify weights applied to a functions features to best accomplish this.\n",
        "  "
      ]
    },
    {
      "cell_type": "markdown",
      "metadata": {
        "id": "ZrKYV8joNU66",
        "colab_type": "text"
      },
      "source": [
        "**Stochastic Gradient Descent (SGD)**  \n",
        "Stochastic gradient descent is a type of gradient descent that serves as an alternative to gradient descent.  \n",
        "In gradient descent, you must take the derivative of a function with respect to **all** of its weights and features.  \n",
        "This workload gets out of hand quickly when you consider a function that operates on a large dataset.  \n",
        "**SGD is able to greatly reduce computing time and resource use because it selects a batch size of 1 data points per  \n",
        "iteration.** This ensures that learning is as unbiased as possible while also limiting the number of data points it needs  \n",
        "to look at.  "
      ]
    },
    {
      "cell_type": "markdown",
      "metadata": {
        "id": "j5vbxNOsNqu6",
        "colab_type": "text"
      },
      "source": [
        "  \n",
        "  **Mini Batch Gradient Descent (MBGD)**  \n",
        "  Mini batch gradient descent can be thought of as **a compromise between two approaches to performing gradient descent**.  \n",
        "  SGD is like is good can be good for generalizing a pattern over a set of data, but, it may also overgeneralize patterns accross  \n",
        "  data. Gradient trys to learn patterns over a dataset all in one go. The batch size of gradient descent is well, all of it...   \n",
        "  all of the data points in the dataset.  MGD is like SGD, except, the batch size per iteration is not 1 or n for n data points.   \n",
        "  The batch size is a nice number in between."
      ]
    },
    {
      "cell_type": "markdown",
      "metadata": {
        "id": "-uO_x9ePNqlH",
        "colab_type": "text"
      },
      "source": [
        ""
      ]
    },
    {
      "cell_type": "markdown",
      "metadata": {
        "id": "rJojviTcrzjD",
        "colab_type": "text"
      },
      "source": [
        "## 3. Building a Model"
      ]
    },
    {
      "cell_type": "markdown",
      "metadata": {
        "id": "4n-1x874smiv",
        "colab_type": "text"
      },
      "source": [
        "**What is a model?**  \n",
        "Francois Challet defines a model as a \"directed, acyclic graph of layers.\" They are most commonly stacked  \n",
        "on top of each other with each one mapping its output to the input of another layer. \n",
        "<br/>\n",
        "<br/>\n",
        "**How will a model learn?**  \n",
        "When you create a model, you need to specify a loss funtion which calculates loss on predictions and optimizer.  \n",
        "An optimizer decides (based on the loss function) decides how to update the model and what changes to make  \n",
        "to weights. The loss function and optimizer are usually chosen in the compilation step.\n",
        "<br/>\n",
        "<br/>\n",
        "**What do I create a model?**  \n",
        " I've illustrated different types of models that can be created using the code below:  \n",
        "The activation function type used in the first layer of the model is *relu* and the  \n",
        "type used in the second dense layer is *softmax*. "
      ]
    },
    {
      "cell_type": "code",
      "metadata": {
        "id": "EhTBCL_Xsm9F",
        "colab_type": "code",
        "outputId": "d286a2f8-7af0-4168-bd3f-290c75d27fb6",
        "colab": {
          "base_uri": "https://localhost:8080/",
          "height": 763
        }
      },
      "source": [
        "from keras import models\n",
        "from keras import layers\n",
        "\n",
        "# Linear Regression Model\n",
        "model = models.Sequential()\n",
        "model.add(layers.Dense(32, activation='relu', input_shape=(784,)))\n",
        "model.add(layers.Dense(10, activation='softmax'))\n",
        "model.summary()\n",
        "print()\n",
        "\n",
        "# Multiclass Regression Model\n",
        "model_1 = models.Sequential()\n",
        "model_1.add(layers.Dense(512, activation='relu', input_shape=(28 * 28,)))\n",
        "model_1.add(layers.Dense(10, activation='softmax'))\n",
        "model_1.summary()\n",
        "print()\n",
        "\n",
        "# Binary Logistic Regression Model\n",
        "model_2 = models.Sequential()\n",
        "model_2.add(layers.Dense(16, activation='relu', input_shape=(10000,)))\n",
        "model_2.add(layers.Dense(16, activation='relu'))\n",
        "model_2.add(layers.Dense(1, activation='sigmoid'))\n",
        "model_2.summary()\n",
        "print()\n"
      ],
      "execution_count": 24,
      "outputs": [
        {
          "output_type": "stream",
          "text": [
            "Model: \"sequential_8\"\n",
            "_________________________________________________________________\n",
            "Layer (type)                 Output Shape              Param #   \n",
            "=================================================================\n",
            "dense_18 (Dense)             (None, 32)                25120     \n",
            "_________________________________________________________________\n",
            "dense_19 (Dense)             (None, 10)                330       \n",
            "=================================================================\n",
            "Total params: 25,450\n",
            "Trainable params: 25,450\n",
            "Non-trainable params: 0\n",
            "_________________________________________________________________\n",
            "\n",
            "Model: \"sequential_9\"\n",
            "_________________________________________________________________\n",
            "Layer (type)                 Output Shape              Param #   \n",
            "=================================================================\n",
            "dense_20 (Dense)             (None, 512)               401920    \n",
            "_________________________________________________________________\n",
            "dense_21 (Dense)             (None, 10)                5130      \n",
            "=================================================================\n",
            "Total params: 407,050\n",
            "Trainable params: 407,050\n",
            "Non-trainable params: 0\n",
            "_________________________________________________________________\n",
            "\n",
            "Model: \"sequential_10\"\n",
            "_________________________________________________________________\n",
            "Layer (type)                 Output Shape              Param #   \n",
            "=================================================================\n",
            "dense_22 (Dense)             (None, 16)                160016    \n",
            "_________________________________________________________________\n",
            "dense_23 (Dense)             (None, 16)                272       \n",
            "_________________________________________________________________\n",
            "dense_24 (Dense)             (None, 1)                 17        \n",
            "=================================================================\n",
            "Total params: 160,305\n",
            "Trainable params: 160,305\n",
            "Non-trainable params: 0\n",
            "_________________________________________________________________\n",
            "\n"
          ],
          "name": "stdout"
        }
      ]
    },
    {
      "cell_type": "markdown",
      "metadata": {
        "id": "4TpvFHH7rzcs",
        "colab_type": "text"
      },
      "source": [
        "## 4. Compiling a Model"
      ]
    },
    {
      "cell_type": "markdown",
      "metadata": {
        "id": "7O3-iWS9soca",
        "colab_type": "text"
      },
      "source": [
        "**Compiling a Neural Network**  \n",
        "When you create a model like so above, you are defining it, however the learning  \n",
        "process needs to be decided upon and configured. This means choosing an  \n",
        "appropiate loss function and optimization function for your neural network.\n",
        "<br/>\n",
        "<br/>\n",
        "**Loss Functions**  \n",
        "There are different types of loss functions for different scenarios in machine learning.  \n",
        "There are ones for linear regression, logistic regression, and multiclass regression. To  \n",
        "keep it brief I'll list a few loss functions below:\n",
        "<br/>\n",
        " * Mean Squared Error Loss ('mse')\n",
        " * Mean Absolute Error Loss\n",
        " * Binary Cross Entropy Loss\n",
        " * Categorical Cross Entropy Loss"
      ]
    },
    {
      "cell_type": "code",
      "metadata": {
        "id": "lNrLUK-1so3C",
        "colab_type": "code",
        "colab": {}
      },
      "source": [
        "from keras import optimizers\n",
        "\n",
        "# Configuration for model\n",
        "model.compile(optimizer=optimizers.RMSprop(lr=0.001),\n",
        "              loss='mse',\n",
        "              metrics=['accuracy'])\n",
        "\n",
        "# Configuration for model_1\n",
        "model_1.compile(optimizer='rmsprop',\n",
        "                loss='categorical_crossentropy',\n",
        "                metrics=['accuracy'])\n",
        "\n",
        "# Configuration for model_2\n",
        "model_2.compile(optimizer=optimizers.RMSprop(lr=0.001),\n",
        "              loss='binary_crossentropy',\n",
        "              metrics=['accuracy'])"
      ],
      "execution_count": 0,
      "outputs": []
    },
    {
      "cell_type": "markdown",
      "metadata": {
        "id": "m61F2rnFsXZA",
        "colab_type": "text"
      },
      "source": [
        "## 5. Training a Model"
      ]
    },
    {
      "cell_type": "markdown",
      "metadata": {
        "id": "2KUV-sVIspua",
        "colab_type": "text"
      },
      "source": [
        "**Training Input**\n",
        "<br/>\n",
        "Training a model is the next step after compiling the model and configuring how  \n",
        "it will learn. In this step you pass your neural network data in the form of **tensors**.  \n",
        "You can train a model using the *model.fit()* method.\n",
        "<br/>\n",
        "<br/>\n",
        "In Keras at least, models take in data as tensors, which are really just numpy arrays  \n",
        "of certain **shape** and **dimension**. Tensors can have different a dimension based on  \n",
        "the type of data you want to train your model on. \n",
        "<br/>\n",
        "<br/>\n",
        "\n"
      ]
    },
    {
      "cell_type": "markdown",
      "metadata": {
        "id": "u23FHkDKuAm1",
        "colab_type": "text"
      },
      "source": [
        "#### Tensors"
      ]
    },
    {
      "cell_type": "markdown",
      "metadata": {
        "id": "zjgQ51GAkVDO",
        "colab_type": "text"
      },
      "source": [
        "**Tensor Dimensions**  \n",
        "* 0D Tensor, **scalar**:  \n",
        "  >A tensor with 0 dimensions can only hold 1 number and is therefore a scalar.\n",
        "* 1D Tensor ((m*n), 1):  \n",
        "  > 1D tensors or, **vectors**, have only one axis and hold 1D array of values.\n",
        "* 2D Tensor ((m*n), 2):\n",
        "  > **Matrices** are 2D tensors that have 2 axes and hold a rectangular grid of values.\n",
        "* 3D Tensor ((m*n), 3):\n"
      ]
    },
    {
      "cell_type": "code",
      "metadata": {
        "id": "fi0EmAmJsqNZ",
        "colab_type": "code",
        "outputId": "b83e8f86-a646-4991-869e-911dc01470f9",
        "colab": {
          "base_uri": "https://localhost:8080/",
          "height": 0
        }
      },
      "source": [
        "# Tensors of Different Dimensions\n",
        "\n",
        "# tens_0\n",
        "tens_0 = np.array(12)\n",
        "print('Tensor 0 Dimension: ', tens_0.ndim)\n",
        "print(tens_0)\n",
        "print()\n",
        "\n",
        "# tens_1\n",
        "tens_1 = np.array(np.arange(0,6, 1))\n",
        "print('Tensor 1 Dimension: ', tens_1.ndim)\n",
        "print(tens_1)\n",
        "print()\n",
        "\n",
        "\n",
        "# tens_2\n",
        "tens_2 = np.array(np.arange(0, 6, 1)).reshape((2,3))\n",
        "print('Tensor 2 Dimension: ', tens_2.ndim)\n",
        "print(tens_2)\n",
        "print()\n",
        "\n",
        "# tens_3\n",
        "tens_3 = np.array([[[1, 2], [3, 4]], [[5, 6], [7, 8]]])\n",
        "print('Tensor 3 Dimension: ', tens_3.ndim)\n",
        "print(tens_3)"
      ],
      "execution_count": 26,
      "outputs": [
        {
          "output_type": "stream",
          "text": [
            "Tensor 0 Dimension:  0\n",
            "12\n",
            "\n",
            "Tensor 1 Dimension:  1\n",
            "[0 1 2 3 4 5]\n",
            "\n",
            "Tensor 2 Dimension:  2\n",
            "[[0 1 2]\n",
            " [3 4 5]]\n",
            "\n",
            "Tensor 3 Dimension:  3\n",
            "[[[1 2]\n",
            "  [3 4]]\n",
            "\n",
            " [[5 6]\n",
            "  [7 8]]]\n"
          ],
          "name": "stdout"
        }
      ]
    },
    {
      "cell_type": "markdown",
      "metadata": {
        "id": "oyuA8WISrBFk",
        "colab_type": "text"
      },
      "source": [
        "#### **Binary Classification Training Example**"
      ]
    },
    {
      "cell_type": "markdown",
      "metadata": {
        "id": "kI1yDK-pufwV",
        "colab_type": "text"
      },
      "source": [
        "**Download IMDB dataset**"
      ]
    },
    {
      "cell_type": "code",
      "metadata": {
        "id": "fqvzuTFNsB1M",
        "colab_type": "code",
        "colab": {}
      },
      "source": [
        "\n",
        "from keras.datasets import imdb\n",
        "\n",
        "(train_data, train_labels), (test_data, test_labels) = imdb.load_data(num_words = 10000)"
      ],
      "execution_count": 0,
      "outputs": []
    },
    {
      "cell_type": "markdown",
      "metadata": {
        "id": "OuPly_JeupUK",
        "colab_type": "text"
      },
      "source": [
        "**Prepare data by vectorizing for the model**"
      ]
    },
    {
      "cell_type": "code",
      "metadata": {
        "id": "aF0o3iRKp7VV",
        "colab_type": "code",
        "colab": {}
      },
      "source": [
        "import numpy as np\n",
        "\n",
        "def vectorize_sequences(sequences, dimension=10000):\n",
        "  results = np.zeros((len(sequences), dimension))\n",
        "  for i, seq in enumerate(sequences):\n",
        "    results[i,seq] = 1\n",
        "  return results\n",
        "\n",
        "# Vectorize train/test data\n",
        "x_train = vectorize_sequences(train_data)\n",
        "x_test = vectorize_sequences(test_data)\n",
        "\n",
        "# Vectorize train/test labels\n",
        "y_train = np.asarray(train_labels).astype('float32')\n",
        "y_test = np.asarray(test_labels).astype('float32')"
      ],
      "execution_count": 0,
      "outputs": []
    },
    {
      "cell_type": "markdown",
      "metadata": {
        "id": "WsxliCP6u04O",
        "colab_type": "text"
      },
      "source": [
        "**Set aside a validation set**"
      ]
    },
    {
      "cell_type": "code",
      "metadata": {
        "id": "DFNUHWWOuz5n",
        "colab_type": "code",
        "colab": {}
      },
      "source": [
        "x_val = x_train[:10000]\n",
        "partial_x_train = x_train[10000:]\n",
        "\n",
        "y_val = y_train[:10000]\n",
        "partial_y_train = y_train[10000:]"
      ],
      "execution_count": 0,
      "outputs": []
    },
    {
      "cell_type": "markdown",
      "metadata": {
        "id": "X46lRCMWyYWW",
        "colab_type": "text"
      },
      "source": [
        "**Train the model**"
      ]
    },
    {
      "cell_type": "code",
      "metadata": {
        "id": "6vZ1cMChttYQ",
        "colab_type": "code",
        "outputId": "34ab6f21-8610-4130-d6af-abb803d1e9d6",
        "colab": {
          "base_uri": "https://localhost:8080/",
          "height": 763
        }
      },
      "source": [
        "# Train the model\n",
        "epochs = 20\n",
        "b_size = 512\n",
        "\n",
        "history = model_2.fit(partial_x_train,\n",
        "                      partial_y_train,\n",
        "                      epochs=epochs,\n",
        "                      batch_size=b_size,\n",
        "                      validation_data=(x_val, y_val))\n"
      ],
      "execution_count": 30,
      "outputs": [
        {
          "output_type": "stream",
          "text": [
            "Train on 15000 samples, validate on 10000 samples\n",
            "Epoch 1/20\n",
            "15000/15000 [==============================] - 2s 106us/step - loss: 0.5883 - accuracy: 0.7068 - val_loss: 0.4932 - val_accuracy: 0.8426\n",
            "Epoch 2/20\n",
            "15000/15000 [==============================] - 2s 101us/step - loss: 0.3954 - accuracy: 0.8849 - val_loss: 0.3554 - val_accuracy: 0.8809\n",
            "Epoch 3/20\n",
            "15000/15000 [==============================] - 2s 101us/step - loss: 0.2720 - accuracy: 0.9212 - val_loss: 0.3107 - val_accuracy: 0.8812\n",
            "Epoch 4/20\n",
            "15000/15000 [==============================] - 1s 100us/step - loss: 0.2061 - accuracy: 0.9397 - val_loss: 0.2810 - val_accuracy: 0.8884\n",
            "Epoch 5/20\n",
            "15000/15000 [==============================] - 1s 100us/step - loss: 0.1659 - accuracy: 0.9506 - val_loss: 0.2812 - val_accuracy: 0.8871\n",
            "Epoch 6/20\n",
            "15000/15000 [==============================] - 2s 100us/step - loss: 0.1373 - accuracy: 0.9588 - val_loss: 0.3202 - val_accuracy: 0.8745\n",
            "Epoch 7/20\n",
            "15000/15000 [==============================] - 2s 100us/step - loss: 0.1175 - accuracy: 0.9659 - val_loss: 0.2943 - val_accuracy: 0.8863\n",
            "Epoch 8/20\n",
            "15000/15000 [==============================] - 1s 100us/step - loss: 0.0991 - accuracy: 0.9725 - val_loss: 0.3076 - val_accuracy: 0.8837\n",
            "Epoch 9/20\n",
            "15000/15000 [==============================] - 2s 101us/step - loss: 0.0832 - accuracy: 0.9769 - val_loss: 0.3304 - val_accuracy: 0.8815\n",
            "Epoch 10/20\n",
            "15000/15000 [==============================] - 2s 100us/step - loss: 0.0694 - accuracy: 0.9823 - val_loss: 0.3571 - val_accuracy: 0.8781\n",
            "Epoch 11/20\n",
            "15000/15000 [==============================] - 2s 100us/step - loss: 0.0590 - accuracy: 0.9858 - val_loss: 0.3661 - val_accuracy: 0.8798\n",
            "Epoch 12/20\n",
            "15000/15000 [==============================] - 2s 100us/step - loss: 0.0485 - accuracy: 0.9899 - val_loss: 0.3959 - val_accuracy: 0.8760\n",
            "Epoch 13/20\n",
            "15000/15000 [==============================] - 2s 100us/step - loss: 0.0418 - accuracy: 0.9919 - val_loss: 0.4227 - val_accuracy: 0.8744\n",
            "Epoch 14/20\n",
            "15000/15000 [==============================] - 2s 101us/step - loss: 0.0321 - accuracy: 0.9946 - val_loss: 0.4724 - val_accuracy: 0.8657\n",
            "Epoch 15/20\n",
            "15000/15000 [==============================] - 1s 100us/step - loss: 0.0268 - accuracy: 0.9955 - val_loss: 0.4736 - val_accuracy: 0.8734\n",
            "Epoch 16/20\n",
            "15000/15000 [==============================] - 2s 100us/step - loss: 0.0212 - accuracy: 0.9971 - val_loss: 0.5911 - val_accuracy: 0.8578\n",
            "Epoch 17/20\n",
            "15000/15000 [==============================] - 2s 100us/step - loss: 0.0206 - accuracy: 0.9959 - val_loss: 0.5351 - val_accuracy: 0.8703\n",
            "Epoch 18/20\n",
            "15000/15000 [==============================] - 2s 100us/step - loss: 0.0116 - accuracy: 0.9989 - val_loss: 0.5564 - val_accuracy: 0.8692\n",
            "Epoch 19/20\n",
            "15000/15000 [==============================] - 2s 100us/step - loss: 0.0145 - accuracy: 0.9974 - val_loss: 0.5922 - val_accuracy: 0.8709\n",
            "Epoch 20/20\n",
            "15000/15000 [==============================] - 2s 100us/step - loss: 0.0071 - accuracy: 0.9995 - val_loss: 0.6232 - val_accuracy: 0.8681\n"
          ],
          "name": "stdout"
        }
      ]
    },
    {
      "cell_type": "markdown",
      "metadata": {
        "id": "CNLT-DU1yckr",
        "colab_type": "text"
      },
      "source": [
        "**Plot models training/validation loss**"
      ]
    },
    {
      "cell_type": "code",
      "metadata": {
        "id": "N-vZ3pYMygA8",
        "colab_type": "code",
        "outputId": "ecce038c-ff58-48c7-e7af-08e3b2624352",
        "colab": {
          "base_uri": "https://localhost:8080/",
          "height": 295
        }
      },
      "source": [
        "import matplotlib.pyplot as plt\n",
        "\n",
        "# Extract dictionary keys in the models history\n",
        "history_dict = history.history\n",
        "history_dict.keys()\n",
        "\n",
        "history_dict = history.history\n",
        "loss_values = history_dict['loss']\n",
        "val_loss_values = history_dict['val_loss']\n",
        "epochs = range(1, len(loss_values) + 1)\n",
        "\n",
        "# Plot the train/validation loss\n",
        "plt.plot(epochs, loss_values, 'bo', label='Training loss')\n",
        "plt.plot(epochs, val_loss_values, 'b', label='Validation loss')\n",
        "plt.title('Training and validation loss')\n",
        "plt.xlabel('Epochs')\n",
        "plt.ylabel('Loss')\n",
        "plt.legend()\n",
        "plt.show()"
      ],
      "execution_count": 31,
      "outputs": [
        {
          "output_type": "display_data",
          "data": {
            "image/png": "[encoded data removed]",
            "text/plain": [
              "<Figure size 432x288 with 1 Axes>"
            ]
          },
          "metadata": {
            "tags": [],
            "needs_background": "light"
          }
        }
      ]
    },
    {
      "cell_type": "markdown",
      "metadata": {
        "id": "GW2i-n2Jz4tx",
        "colab_type": "text"
      },
      "source": [
        "**Plot models training/validation accuracy**"
      ]
    },
    {
      "cell_type": "code",
      "metadata": {
        "id": "x21dJ03Bz4Xl",
        "colab_type": "code",
        "outputId": "1ee1af9c-50ca-4a41-df30-a24c2482df54",
        "colab": {
          "base_uri": "https://localhost:8080/",
          "height": 295
        }
      },
      "source": [
        "# Plot the train/validation accuracy\n",
        "acc_values = history_dict['accuracy']\n",
        "val_acc_values = history_dict['val_accuracy']\n",
        "plt.plot(epochs, acc_values, 'bo', label='Training acc')\n",
        "plt.plot(epochs, val_acc_values, 'b', label='Validation acc')\n",
        "plt.title('Training and validation accuracy')\n",
        "plt.xlabel('Epochs')\n",
        "plt.ylabel('Loss')\n",
        "plt.legend()\n",
        "plt.show()"
      ],
      "execution_count": 32,
      "outputs": [
        {
          "output_type": "display_data",
          "data": {
            "image/png": "[encoded data removed]",
            "text/plain": [
              "<Figure size 432x288 with 1 Axes>"
            ]
          },
          "metadata": {
            "tags": [],
            "needs_background": "light"
          }
        }
      ]
    },
    {
      "cell_type": "markdown",
      "metadata": {
        "id": "aSknl3rb1TAT",
        "colab_type": "text"
      },
      "source": [
        "#### **Overfitting and Underfitting**"
      ]
    },
    {
      "cell_type": "markdown",
      "metadata": {
        "id": "mVlUR_ikkW21",
        "colab_type": "text"
      },
      "source": [
        "**Overfitting**  \n",
        "Overfitting is something that will always happen in any ML model. It's when your model  \n",
        "stops learning about the data and instead memorizes patterns about the set of data. In  \n",
        "the plot of the models accuracy above you can see that *validation accruacy* peaks at  \n",
        "about 3 epochs and diminishes after that. This is a sign of overfitting, when the patterns  \n",
        "learned on the training set do not generalize well when tested against a comletely unseen  \n",
        "set of data. Overfitting can happen when the dataset you feed your model is too  small.  \n",
        "In order, for a model to generalize well, it needs exposure to alot of different data. Sometimes  \n",
        "overfitting can be alleviated with the use of a larger dataset. **Another option to reduce overfitting  \n",
        "to reduce the size of your model.**"
      ]
    },
    {
      "cell_type": "markdown",
      "metadata": {
        "id": "uwybKX931kdJ",
        "colab_type": "text"
      },
      "source": [
        "**Underfitting**  \n",
        "Underfitting is when your model still has a lot to learn. It is sort of the opposite of overfitting.  \n",
        "Its when your model hasn't learned to predict all the patterns across your dataset. This would  \n",
        "mean that you would see a lower accuracy than you originally expected."
      ]
    },
    {
      "cell_type": "markdown",
      "metadata": {
        "id": "PyeQdYiG6xpF",
        "colab_type": "text"
      },
      "source": [
        "#### **Methods to reduce overfitting/underfitting**"
      ]
    },
    {
      "cell_type": "markdown",
      "metadata": {
        "id": "u5puRGVC7V3A",
        "colab_type": "text"
      },
      "source": [
        "##### Reduce Model Size and Retrain Model"
      ]
    },
    {
      "cell_type": "code",
      "metadata": {
        "id": "eSxpJWZY6uUc",
        "colab_type": "code",
        "outputId": "90d559f5-ab08-4650-a6f1-210a303e7937",
        "colab": {
          "base_uri": "https://localhost:8080/",
          "height": 763
        }
      },
      "source": [
        "# Reconfigure model_2 to be smaller\n",
        "model_2 = models.Sequential()\n",
        "model_2.add(layers.Dense(4, activation='relu', input_shape=(10000,)))\n",
        "model_2.add(layers.Dense(4, activation='relu'))\n",
        "model_2.add(layers.Dense(1, activation='sigmoid'))\n",
        "\n",
        "# Configuration for model_2\n",
        "model_2.compile(optimizer=optimizers.RMSprop(lr=0.001),\n",
        "              loss='binary_crossentropy',\n",
        "              metrics=['accuracy'])\n",
        "\n",
        "# Train the model\n",
        "epochs = 20\n",
        "b_size = 512\n",
        "\n",
        "history = model_2.fit(partial_x_train,\n",
        "                      partial_y_train,\n",
        "                      epochs=epochs,\n",
        "                      batch_size=b_size,\n",
        "                      validation_data=(x_val, y_val))"
      ],
      "execution_count": 33,
      "outputs": [
        {
          "output_type": "stream",
          "text": [
            "Train on 15000 samples, validate on 10000 samples\n",
            "Epoch 1/20\n",
            "15000/15000 [==============================] - 2s 107us/step - loss: 0.6348 - accuracy: 0.6422 - val_loss: 0.5838 - val_accuracy: 0.7251\n",
            "Epoch 2/20\n",
            "15000/15000 [==============================] - 2s 100us/step - loss: 0.5366 - accuracy: 0.7769 - val_loss: 0.5305 - val_accuracy: 0.7758\n",
            "Epoch 3/20\n",
            "15000/15000 [==============================] - 2s 100us/step - loss: 0.4828 - accuracy: 0.8421 - val_loss: 0.5079 - val_accuracy: 0.7873\n",
            "Epoch 4/20\n",
            "15000/15000 [==============================] - 1s 99us/step - loss: 0.4473 - accuracy: 0.8825 - val_loss: 0.4838 - val_accuracy: 0.8342\n",
            "Epoch 5/20\n",
            "15000/15000 [==============================] - 1s 99us/step - loss: 0.4206 - accuracy: 0.9054 - val_loss: 0.4810 - val_accuracy: 0.8281\n",
            "Epoch 6/20\n",
            "15000/15000 [==============================] - 2s 100us/step - loss: 0.3982 - accuracy: 0.9237 - val_loss: 0.4606 - val_accuracy: 0.8620\n",
            "Epoch 7/20\n",
            "15000/15000 [==============================] - 1s 100us/step - loss: 0.3791 - accuracy: 0.9366 - val_loss: 0.4615 - val_accuracy: 0.8553\n",
            "Epoch 8/20\n",
            "15000/15000 [==============================] - 1s 99us/step - loss: 0.3622 - accuracy: 0.9474 - val_loss: 0.4742 - val_accuracy: 0.8434\n",
            "Epoch 9/20\n",
            "15000/15000 [==============================] - 1s 96us/step - loss: 0.3472 - accuracy: 0.9542 - val_loss: 0.4632 - val_accuracy: 0.8569\n",
            "Epoch 10/20\n",
            "15000/15000 [==============================] - 1s 96us/step - loss: 0.3328 - accuracy: 0.9611 - val_loss: 0.4737 - val_accuracy: 0.8526\n",
            "Epoch 11/20\n",
            "15000/15000 [==============================] - 1s 96us/step - loss: 0.3204 - accuracy: 0.9679 - val_loss: 0.4517 - val_accuracy: 0.8713\n",
            "Epoch 12/20\n",
            "15000/15000 [==============================] - 1s 97us/step - loss: 0.3081 - accuracy: 0.9730 - val_loss: 0.4627 - val_accuracy: 0.8650\n",
            "Epoch 13/20\n",
            "15000/15000 [==============================] - 1s 96us/step - loss: 0.2968 - accuracy: 0.9769 - val_loss: 0.4957 - val_accuracy: 0.8537\n",
            "Epoch 14/20\n",
            "15000/15000 [==============================] - 1s 97us/step - loss: 0.2865 - accuracy: 0.9809 - val_loss: 0.5143 - val_accuracy: 0.8483\n",
            "Epoch 15/20\n",
            "15000/15000 [==============================] - 1s 97us/step - loss: 0.2770 - accuracy: 0.9836 - val_loss: 0.4733 - val_accuracy: 0.8676\n",
            "Epoch 16/20\n",
            "15000/15000 [==============================] - 1s 99us/step - loss: 0.2677 - accuracy: 0.9852 - val_loss: 0.5165 - val_accuracy: 0.8545\n",
            "Epoch 17/20\n",
            "15000/15000 [==============================] - 1s 96us/step - loss: 0.2591 - accuracy: 0.9872 - val_loss: 0.5052 - val_accuracy: 0.8595\n",
            "Epoch 18/20\n",
            "15000/15000 [==============================] - 1s 95us/step - loss: 0.2513 - accuracy: 0.9883 - val_loss: 0.5578 - val_accuracy: 0.8478\n",
            "Epoch 19/20\n",
            "15000/15000 [==============================] - 1s 95us/step - loss: 0.2438 - accuracy: 0.9891 - val_loss: 0.5267 - val_accuracy: 0.8591\n",
            "Epoch 20/20\n",
            "15000/15000 [==============================] - 1s 95us/step - loss: 0.2365 - accuracy: 0.9899 - val_loss: 0.5958 - val_accuracy: 0.8473\n"
          ],
          "name": "stdout"
        }
      ]
    },
    {
      "cell_type": "code",
      "metadata": {
        "id": "6ShAP-fdXfCG",
        "colab_type": "code",
        "colab": {
          "base_uri": "https://localhost:8080/",
          "height": 295
        },
        "outputId": "7155ab6c-f297-43bb-a6aa-6a99f1cc62f0"
      },
      "source": [
        "import matplotlib.pyplot as plt\n",
        "\n",
        "# Extract dictionary keys in the models history\n",
        "history_dict = history.history\n",
        "history_dict.keys()\n",
        "\n",
        "history_dict = history.history\n",
        "loss_values = history_dict['loss']\n",
        "val_loss_values = history_dict['val_loss']\n",
        "epochs = range(1, len(loss_values) + 1)\n",
        "\n",
        "# Plot the train/validation loss\n",
        "plt.plot(epochs, loss_values, 'bo', label='Training loss')\n",
        "plt.plot(epochs, val_loss_values, 'b', label='Validation loss')\n",
        "plt.title('Training and validation loss')\n",
        "plt.xlabel('Epochs')\n",
        "plt.ylabel('Loss')\n",
        "plt.legend()\n",
        "plt.show()"
      ],
      "execution_count": 34,
      "outputs": [
        {
          "output_type": "display_data",
          "data": {
            "image/png": "[encoded data removed]",
            "text/plain": [
              "<Figure size 432x288 with 1 Axes>"
            ]
          },
          "metadata": {
            "tags": [],
            "needs_background": "light"
          }
        }
      ]
    },
    {
      "cell_type": "code",
      "metadata": {
        "id": "r0eQ2Q5gXaiL",
        "colab_type": "code",
        "colab": {
          "base_uri": "https://localhost:8080/",
          "height": 295
        },
        "outputId": "43b7a410-b807-4363-883d-282d7c111bb8"
      },
      "source": [
        "# Plot the train/validation accuracy\n",
        "acc_values = history_dict['accuracy']\n",
        "val_acc_values = history_dict['val_accuracy']\n",
        "plt.plot(epochs, acc_values, 'bo', label='Training acc')\n",
        "plt.plot(epochs, val_acc_values, 'b', label='Validation acc')\n",
        "plt.title('Training and validation accuracy')\n",
        "plt.xlabel('Epochs')\n",
        "plt.ylabel('Loss')\n",
        "plt.legend()\n",
        "plt.show()"
      ],
      "execution_count": 35,
      "outputs": [
        {
          "output_type": "display_data",
          "data": {
            "image/png": "[encoded data removed]",
            "text/plain": [
              "<Figure size 432x288 with 1 Axes>"
            ]
          },
          "metadata": {
            "tags": [],
            "needs_background": "light"
          }
        }
      ]
    },
    {
      "cell_type": "markdown",
      "metadata": {
        "id": "hApwajTuXyl5",
        "colab_type": "text"
      },
      "source": [
        "##### Reduce Overfitting with Weight Regularization & Dropout"
      ]
    },
    {
      "cell_type": "code",
      "metadata": {
        "id": "yIeKHBIpX_3J",
        "colab_type": "code",
        "colab": {
          "base_uri": "https://localhost:8080/",
          "height": 763
        },
        "outputId": "b35c1b26-9dec-4e8f-e91a-eb256cbaa558"
      },
      "source": [
        "from keras import regularizers\n",
        "\n",
        "# Binary Logistic Regression Model\n",
        "model_2 = models.Sequential()\n",
        "model_2.add(layers.Dense(16, kernel_regularizer=regularizers.l2(0.001),\n",
        "                         activation='relu', input_shape=(10000,)))\n",
        "model_2.add(layers.Dropout(0.5))\n",
        "model_2.add(layers.Dense(16, kernel_regularizer=regularizers.l2(0.001),\n",
        "                         activation='relu'))\n",
        "model_2.add(layers.Dropout(0.5))\n",
        "model_2.add(layers.Dense(1, activation='sigmoid'))\n",
        "\n",
        "\n",
        "\n",
        "# Configuration for model_2\n",
        "model_2.compile(optimizer=optimizers.RMSprop(lr=0.001),\n",
        "              loss='binary_crossentropy',\n",
        "              metrics=['accuracy'])\n",
        "\n",
        "# Train the model\n",
        "epochs = 20\n",
        "b_size = 512\n",
        "\n",
        "history = model_2.fit(partial_x_train,\n",
        "                      partial_y_train,\n",
        "                      epochs=epochs,\n",
        "                      batch_size=b_size,\n",
        "                      validation_data=(x_val, y_val))\n"
      ],
      "execution_count": 36,
      "outputs": [
        {
          "output_type": "stream",
          "text": [
            "Train on 15000 samples, validate on 10000 samples\n",
            "Epoch 1/20\n",
            "15000/15000 [==============================] - 2s 108us/step - loss: 0.6529 - accuracy: 0.6641 - val_loss: 0.5297 - val_accuracy: 0.8502\n",
            "Epoch 2/20\n",
            "15000/15000 [==============================] - 1s 94us/step - loss: 0.5296 - accuracy: 0.7885 - val_loss: 0.4272 - val_accuracy: 0.8730\n",
            "Epoch 3/20\n",
            "15000/15000 [==============================] - 1s 95us/step - loss: 0.4489 - accuracy: 0.8402 - val_loss: 0.3669 - val_accuracy: 0.8850\n",
            "Epoch 4/20\n",
            "15000/15000 [==============================] - 1s 94us/step - loss: 0.3930 - accuracy: 0.8706 - val_loss: 0.3441 - val_accuracy: 0.8849\n",
            "Epoch 5/20\n",
            "15000/15000 [==============================] - 1s 94us/step - loss: 0.3560 - accuracy: 0.8893 - val_loss: 0.3399 - val_accuracy: 0.8842\n",
            "Epoch 6/20\n",
            "15000/15000 [==============================] - 1s 93us/step - loss: 0.3240 - accuracy: 0.9051 - val_loss: 0.3233 - val_accuracy: 0.8865\n",
            "Epoch 7/20\n",
            "15000/15000 [==============================] - 1s 94us/step - loss: 0.2987 - accuracy: 0.9147 - val_loss: 0.3298 - val_accuracy: 0.8853\n",
            "Epoch 8/20\n",
            "15000/15000 [==============================] - 1s 93us/step - loss: 0.2814 - accuracy: 0.9224 - val_loss: 0.3352 - val_accuracy: 0.8869\n",
            "Epoch 9/20\n",
            "15000/15000 [==============================] - 1s 93us/step - loss: 0.2662 - accuracy: 0.9287 - val_loss: 0.3393 - val_accuracy: 0.8885\n",
            "Epoch 10/20\n",
            "15000/15000 [==============================] - 1s 92us/step - loss: 0.2511 - accuracy: 0.9332 - val_loss: 0.3675 - val_accuracy: 0.8777\n",
            "Epoch 11/20\n",
            "15000/15000 [==============================] - 1s 91us/step - loss: 0.2420 - accuracy: 0.9377 - val_loss: 0.3549 - val_accuracy: 0.8835\n",
            "Epoch 12/20\n",
            "15000/15000 [==============================] - 1s 92us/step - loss: 0.2268 - accuracy: 0.9429 - val_loss: 0.3744 - val_accuracy: 0.8838\n",
            "Epoch 13/20\n",
            "15000/15000 [==============================] - 1s 92us/step - loss: 0.2232 - accuracy: 0.9427 - val_loss: 0.3938 - val_accuracy: 0.8833\n",
            "Epoch 14/20\n",
            "15000/15000 [==============================] - 1s 92us/step - loss: 0.2146 - accuracy: 0.9475 - val_loss: 0.3951 - val_accuracy: 0.8819\n",
            "Epoch 15/20\n",
            "15000/15000 [==============================] - 1s 92us/step - loss: 0.2170 - accuracy: 0.9442 - val_loss: 0.3916 - val_accuracy: 0.8819\n",
            "Epoch 16/20\n",
            "15000/15000 [==============================] - 1s 93us/step - loss: 0.2001 - accuracy: 0.9510 - val_loss: 0.4336 - val_accuracy: 0.8822\n",
            "Epoch 17/20\n",
            "15000/15000 [==============================] - 1s 92us/step - loss: 0.2002 - accuracy: 0.9496 - val_loss: 0.4273 - val_accuracy: 0.8836\n",
            "Epoch 18/20\n",
            "15000/15000 [==============================] - 1s 92us/step - loss: 0.2043 - accuracy: 0.9483 - val_loss: 0.4277 - val_accuracy: 0.8764\n",
            "Epoch 19/20\n",
            "15000/15000 [==============================] - 1s 92us/step - loss: 0.1965 - accuracy: 0.9521 - val_loss: 0.4471 - val_accuracy: 0.8738\n",
            "Epoch 20/20\n",
            "15000/15000 [==============================] - 1s 92us/step - loss: 0.1931 - accuracy: 0.9534 - val_loss: 0.4569 - val_accuracy: 0.8811\n"
          ],
          "name": "stdout"
        }
      ]
    },
    {
      "cell_type": "code",
      "metadata": {
        "id": "60mlSyooZMXP",
        "colab_type": "code",
        "colab": {
          "base_uri": "https://localhost:8080/",
          "height": 295
        },
        "outputId": "3856969b-0a64-432f-a97d-3df4efd36f14"
      },
      "source": [
        "import matplotlib.pyplot as plt\n",
        "\n",
        "# Extract dictionary keys in the models history\n",
        "history_dict = history.history\n",
        "history_dict.keys()\n",
        "\n",
        "history_dict = history.history\n",
        "loss_values = history_dict['loss']\n",
        "val_loss_values = history_dict['val_loss']\n",
        "epochs = range(1, len(loss_values) + 1)\n",
        "\n",
        "# Plot the train/validation loss\n",
        "plt.plot(epochs, loss_values, 'bo', label='Training loss')\n",
        "plt.plot(epochs, val_loss_values, 'b', label='Validation loss')\n",
        "plt.title('Training and validation loss')\n",
        "plt.xlabel('Epochs')\n",
        "plt.ylabel('Loss')\n",
        "plt.legend()\n",
        "plt.show()"
      ],
      "execution_count": 37,
      "outputs": [
        {
          "output_type": "display_data",
          "data": {
            "image/png": "[encoded data removed]",
            "text/plain": [
              "<Figure size 432x288 with 1 Axes>"
            ]
          },
          "metadata": {
            "tags": [],
            "needs_background": "light"
          }
        }
      ]
    },
    {
      "cell_type": "code",
      "metadata": {
        "id": "q48xRnMdZMNf",
        "colab_type": "code",
        "colab": {
          "base_uri": "https://localhost:8080/",
          "height": 295
        },
        "outputId": "b961fd68-8bb5-4d0c-fa30-aa0d2b73b387"
      },
      "source": [
        "# Plot the train/validation accuracy\n",
        "acc_values = history_dict['accuracy']\n",
        "val_acc_values = history_dict['val_accuracy']\n",
        "plt.plot(epochs, acc_values, 'bo', label='Training acc')\n",
        "plt.plot(epochs, val_acc_values, 'b', label='Validation acc')\n",
        "plt.title('Training and validation accuracy')\n",
        "plt.xlabel('Epochs')\n",
        "plt.ylabel('Loss')\n",
        "plt.legend()\n",
        "plt.show()"
      ],
      "execution_count": 38,
      "outputs": [
        {
          "output_type": "display_data",
          "data": {
            "image/png": "[encoded data removed]",
            "text/plain": [
              "<Figure size 432x288 with 1 Axes>"
            ]
          },
          "metadata": {
            "tags": [],
            "needs_background": "light"
          }
        }
      ]
    },
    {
      "cell_type": "markdown",
      "metadata": {
        "id": "J5IPZqC-ZwH1",
        "colab_type": "text"
      },
      "source": [
        "**Improvments**\n",
        "<br/>\n",
        "You can see in both plots above that with the tweaking of the size of a model,  \n",
        "adding in weight regularization, and dropping out a set of random output features  \n",
        "overfitting in a ML model is reduced. Overfitting may not be reduced completely,  \n",
        "but the point at which overfitting starts in both plots above is signifigantly extended."
      ]
    },
    {
      "cell_type": "markdown",
      "metadata": {
        "id": "pnhsGSZKsa6T",
        "colab_type": "text"
      },
      "source": [
        "## 6. Finetuneing a Pretrained Model"
      ]
    },
    {
      "cell_type": "markdown",
      "metadata": {
        "id": "NEhCRgyzsrLr",
        "colab_type": "text"
      },
      "source": [
        "##### Convolutional Neural Networks  "
      ]
    },
    {
      "cell_type": "markdown",
      "metadata": {
        "id": "9oEDml3YjQZ_",
        "colab_type": "text"
      },
      "source": [
        "**Convolutional Neural Networks**, or, convnets as they are sometimes referenced are constructed  \n",
        "with layers like the models above, except these layers are a bit different in the way they operate  \n",
        "on input data. Convnets are often used for training models on image data.\n",
        "<br/>\n",
        "<br/>  \n",
        "The models created above use Dense layers, and these layers learn *global* patterns in the input data's  \n",
        "feature space. Convnets use rounds of **convolution** layers mixed with **maxpooling** layers that learn local  \n",
        "patterns in data. These local patterns serve as puzzle pieces that allow  a model create accurate predictions.  \n",
        "The model no longer has to look at \"the bigger picture\" when trying to learn meaningful patterns across data.  \n",
        "With these puzzle pieces of features, a model can pick and choose and compare data against the most  \n",
        "relevant pieces and create a prediction about the data with a higher accuracy than before."
      ]
    },
    {
      "cell_type": "markdown",
      "metadata": {
        "id": "G0iwGGcMgbug",
        "colab_type": "text"
      },
      "source": [
        "**Example of a Convnet base**"
      ]
    },
    {
      "cell_type": "code",
      "metadata": {
        "id": "uOSMQNJ-f28D",
        "colab_type": "code",
        "colab": {
          "base_uri": "https://localhost:8080/",
          "height": 345
        },
        "outputId": "e1201dee-e0fe-4632-af5a-afe89c37130e"
      },
      "source": [
        "from keras import layers\n",
        "from keras import models\n",
        "\n",
        "model = models.Sequential()\n",
        "model.add(layers.Conv2D(32, (3, 3), activation='relu', input_shape=(28, 28, 1)))\n",
        "model.add(layers.MaxPooling2D((2, 2)))\n",
        "model.add(layers.Conv2D(64, (3, 3), activation='relu'))\n",
        "model.add(layers.MaxPooling2D((2, 2)))\n",
        "model.add(layers.Conv2D(64, (3, 3), activation='relu'))\n",
        "model.summary()"
      ],
      "execution_count": 41,
      "outputs": [
        {
          "output_type": "stream",
          "text": [
            "Model: \"sequential_14\"\n",
            "_________________________________________________________________\n",
            "Layer (type)                 Output Shape              Param #   \n",
            "=================================================================\n",
            "conv2d_4 (Conv2D)            (None, 26, 26, 32)        320       \n",
            "_________________________________________________________________\n",
            "max_pooling2d_3 (MaxPooling2 (None, 13, 13, 32)        0         \n",
            "_________________________________________________________________\n",
            "conv2d_5 (Conv2D)            (None, 11, 11, 64)        18496     \n",
            "_________________________________________________________________\n",
            "max_pooling2d_4 (MaxPooling2 (None, 5, 5, 64)          0         \n",
            "_________________________________________________________________\n",
            "conv2d_6 (Conv2D)            (None, 3, 3, 64)          36928     \n",
            "=================================================================\n",
            "Total params: 55,744\n",
            "Trainable params: 55,744\n",
            "Non-trainable params: 0\n",
            "_________________________________________________________________\n"
          ],
          "name": "stdout"
        }
      ]
    },
    {
      "cell_type": "markdown",
      "metadata": {
        "id": "x2wGNa--bEsm",
        "colab_type": "text"
      },
      "source": [
        "**Convolutions**\n",
        "\n",
        "Convolutions work over what are called feature maps (3D tensors) with a height and a  \n",
        "width. Given another 3D tensor called a filter, a convolution operation will  slide the filter  \n",
        "( of size 3x3 or 5x5) over every possible position in the feature map it can reach and  \n",
        "extract a patch of surrounding features. Each patch is constructed into a 1D vector  \n",
        "and then reassembled into a 3D output fearture map. This map can the fed into  \n",
        "a maxpooling layer or another convolution layer if you so choose.\n",
        "\n"
      ]
    },
    {
      "cell_type": "markdown",
      "metadata": {
        "id": "2evHx1xAbEge",
        "colab_type": "text"
      },
      "source": [
        "**Maxpooling**\n",
        "\n",
        "Maxpooling is a process that helps a model greatly reduce the size of feature maps.  \n",
        "It extracts windows (of size 2x2 usually) of features from a feature map and  \n",
        "outputs the most relevant features of each channel. The logic behind maxpooling is that with a huge  \n",
        "puzzle to solve you dont need every piece in the puzzle to know what the picture is that  \n",
        "the puzzle resembles. More often than not, there are a group of puzzle pieces that illustrate  \n",
        "lots of information in a picture. The same is true of feature maps as well. Not every  \n",
        "feature in a feature map is critcally useful, therefore we could replace it with a \n",
        "feature  \n",
        "that is very useful, and drop other features that provide little to no relevant information."
      ]
    },
    {
      "cell_type": "markdown",
      "metadata": {
        "id": "CC9j8yTljVyi",
        "colab_type": "text"
      },
      "source": [
        "##### Using a pretrained base for a convnet"
      ]
    },
    {
      "cell_type": "markdown",
      "metadata": {
        "id": "vuWMz1VJjcJq",
        "colab_type": "text"
      },
      "source": [
        "**Use a pretrained Convnet base**\n",
        "<br/>\n",
        "A pretrained convnet base is one that was already trained on a large dataset.  \n",
        "You will use the base as the foundation for your model and usually create and customize  \n",
        "a new classifier that will sit on top of the base. The reason for this is because when in  \n",
        "the early layers of a model the image data is still raw an more noisy. The pretrained convnet  \n",
        "base isnt yet tailored to process the data it was previously trained on in the first few layers.  \n",
        "Feature specialization takes place later in the a model when features maps are downsampled  \n",
        "and reduced only to hold features that are relevant to the data at hand.\n",
        "\n",
        "\n"
      ]
    },
    {
      "cell_type": "markdown",
      "metadata": {
        "id": "-Oiq4sOOjb-9",
        "colab_type": "text"
      },
      "source": [
        "**Two ways to use a pretrained convnet**\n",
        "\n",
        "\n",
        "1.   With feature extraction\n",
        "2.   List fine-tuning\n",
        "\n"
      ]
    },
    {
      "cell_type": "markdown",
      "metadata": {
        "id": "qEZWkci0qym3",
        "colab_type": "text"
      },
      "source": [
        "##### Feature Extraction"
      ]
    },
    {
      "cell_type": "markdown",
      "metadata": {
        "id": "VX74lOE7qyeB",
        "colab_type": "text"
      },
      "source": [
        "**Feature Extraction**  \n",
        "This is when the convnet uses the representations of the features its learned to  \n",
        "extract features from the new data it is trained on. Then you run those representations  \n",
        "through a new classifier.  \n",
        "<br/>\n",
        "**Steps to follow: (with data augmentation)**  \n",
        "1. Instantiate a new pretrained convnet base.\n",
        "2. Add a densely connedcted classifier on top of the base.\n",
        "3. **Freeze the convnet base before you start training it.**\n",
        "4. Train model with only weights from the newly created classifier.\n"
      ]
    },
    {
      "cell_type": "markdown",
      "metadata": {
        "id": "0beZgZftq3K_",
        "colab_type": "text"
      },
      "source": [
        "##### Fine-Tuning"
      ]
    },
    {
      "cell_type": "markdown",
      "metadata": {
        "id": "pWxrkvRkq3Fw",
        "colab_type": "text"
      },
      "source": [
        "**Fine-Tuning**  \n",
        "<br/>\n",
        "Finetuning is when instead of freezing the entire convnet base, you leave a\n",
        "few top  \n",
        "layers of the base unfrozen and trainable. This allows for slight tweaking of the last  \n",
        "models top layers to better recognize features in the new data.\n",
        "<br/>\n",
        "**Steps to follow: (with data augmentation)**  \n",
        "1. Instantiate a new pretrained convnet base.\n",
        "2. Add a densely connedcted classifier on top of the base.\n",
        "3. **Freeze the convnet base before you start training it.**\n",
        "4. Train the model on the new dataset you have.\n",
        "5. **Unfreeze a few of the top layers in the convnet base.**\n",
        "6. Retrain the model on the same data with these layers unfrozen."
      ]
    }
  ]
}